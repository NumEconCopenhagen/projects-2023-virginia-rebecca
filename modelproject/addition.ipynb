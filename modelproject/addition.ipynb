{
 "cells": [
  {
   "cell_type": "code",
   "execution_count": null,
   "metadata": {},
   "outputs": [],
   "source": [
    "# code for profit maximisation firm\n",
    "\n",
    "# define profit function\n",
    "\n",
    "def profit(p):\n",
    "   return p*model.par.L*model.par.c -model.par.alpha*model.par.w -model.par.beta*model.par.L*model.par.c*model.par.w\n",
    "\n",
    "# maximisation function\n",
    "\n",
    "def solve_firm():\n",
    "   obj = lambda x: -profit(x[0])\n",
    "   x0 = 5\n",
    "   result = optimize.minimize(obj,x0,method='SLSQP')\n",
    "   prrr= result.x[0]\n",
    "   return prrr\n",
    "\n",
    "# apply maximisation given the demand function\n",
    "\n",
    "price_function = np.empty(par.Np) \n",
    "for i,c in enumerate(consumption_function):\n",
    "   par.c = c\n",
    "   price_function[i] = solve_firm(par)"
   ]
  },
  {
   "cell_type": "code",
   "execution_count": null,
   "metadata": {},
   "outputs": [],
   "source": [
    "# code for elasticity\n",
    "\n",
    "# Define consumption grid\n",
    "\n",
    "\n",
    "c_grid = interp_func(p_grid)\n",
    "fig = plt.figure()\n",
    "axx = fig.add_subplot(1,1,1)\n",
    "axx.plot(c_grid, interp_func_p(c_grid))\n",
    "\n",
    "# Interpolate values to create Price Function\n",
    "\n",
    "interp_func_p = interpolate.RegularGridInterpolator([consumption_function], p_grid,\n",
    "                                                  bounds_error=False,\n",
    "                                                  fill_value=None)\n",
    "\n",
    "# Define elasticity function\n",
    "\n",
    "def elasticity2(c,interp_func_p=interp_func_p,eps = 0.01):\n",
    "\n",
    "    p = interp_func_p([c])\n",
    "    c_eps = c+eps\n",
    "    p_eps = interp_func_p([c_eps])\n",
    "    der_c = (c-c_eps)/c\n",
    "    der_p = (p-p_eps)/p\n",
    "    return  -(der_c/der_p * p/c)\n",
    "\n",
    "# Apply elasticity function to create PP curve\n",
    "\n",
    "def ppc(c,par):\n",
    "    return (elasticity2(c)*par.beta*par.w)/(elasticity2(c)-1)\n",
    "\n",
    "tr5 = np.array([ elasticity2(c) for c in c_grid ])\n",
    "\n",
    "tr6 = np.array([ppc(c,par) for c in c_grid])\n",
    "\n",
    "fig = plt.figure()\n",
    "axx = fig.add_subplot(1,1,1)\n",
    "axx.plot(c_grid, tr6)"
   ]
  }
 ],
 "metadata": {
  "kernelspec": {
   "display_name": "base",
   "language": "python",
   "name": "python3"
  },
  "language_info": {
   "name": "python",
   "version": "3.9.16"
  },
  "orig_nbformat": 4
 },
 "nbformat": 4,
 "nbformat_minor": 2
}
