{
 "cells": [
  {
   "attachments": {},
   "cell_type": "markdown",
   "metadata": {},
   "source": [
    "# CO2 EMISSIONS AND INCOME PER CAPITA"
   ]
  },
  {
   "attachments": {},
   "cell_type": "markdown",
   "metadata": {},
   "source": [
    "Environmental economics scholars have studied the relationship between economic growth and the environment. A popular hypothesis in the literature regards the Environmental Kuznets Curve (EKC), according to which economic growth harms the environment only up to a certain level of income per capita, after which the effects of economic growth are beneficial for it (Stern, 2017). Since the appearance of the hypothesis there has been a huge debate about it. Considering this framework, in this project we want to explore data about income per capita and the environment. "
   ]
  },
  {
   "cell_type": "code",
   "execution_count": 1,
   "metadata": {},
   "outputs": [],
   "source": [
    "# import relevant libraries and modules \n",
    "\n",
    "import pandas as pd\n",
    "import numpy as np\n",
    "import matplotlib.pyplot as plt\n",
    "import ipywidgets as widgets\n",
    "\n",
    "from pandas_datareader import wb # API to read data from the website of the World Bank\n",
    "\n",
    "import datetime\n",
    "import pandas_datareader # install with `pip install pandas-datareader`\n",
    "import pydst # install with `pip install git+https://github.com/elben10/pydst`\n",
    "\n",
    "plt.rcParams.update({\"axes.grid\":True,\"grid.color\":\"black\",\"grid.alpha\":\"0.25\",\"grid.linestyle\":\"--\"})\n",
    "plt.rcParams.update({'font.size': 14})\n",
    "\n",
    "%load_ext autoreload\n",
    "%autoreload 2"
   ]
  },
  {
   "attachments": {},
   "cell_type": "markdown",
   "metadata": {},
   "source": [
    "# Read and clean data"
   ]
  },
  {
   "attachments": {},
   "cell_type": "markdown",
   "metadata": {},
   "source": [
    "To explore our topic, we take from the website of the World Bank data for the GDP per capita (in current US$), the GDP per capita PPP (in current international $) and for CO2 emissions (in metric tons per capita). We want data for all the countries for the period 1990 - 2019. "
   ]
  },
  {
   "cell_type": "code",
   "execution_count": 2,
   "metadata": {},
   "outputs": [
    {
     "name": "stdout",
     "output_type": "stream",
     "text": [
      "<class 'pandas.core.frame.DataFrame'>\n",
      "RangeIndex: 7980 entries, 0 to 7979\n",
      "Data columns (total 3 columns):\n",
      " #   Column   Non-Null Count  Dtype  \n",
      "---  ------   --------------  -----  \n",
      " 0   country  7980 non-null   object \n",
      " 1   year     7980 non-null   object \n",
      " 2   CO2      7169 non-null   float64\n",
      "dtypes: float64(1), object(2)\n",
      "memory usage: 187.2+ KB\n"
     ]
    }
   ],
   "source": [
    "# Download the data for CO2 emissions and rename columns\n",
    "\n",
    "wb_co2 = wb.download(indicator='EN.ATM.CO2E.PC', country='all', start=1990, end=2019)\n",
    "wb_co2 = wb_co2.rename(columns = {'EN.ATM.CO2E.PC':'CO2'}) \n",
    "wb_co2 = wb_co2.reset_index()\n",
    "wb_co2.info()"
   ]
  },
  {
   "cell_type": "code",
   "execution_count": 3,
   "metadata": {},
   "outputs": [
    {
     "name": "stdout",
     "output_type": "stream",
     "text": [
      "<class 'pandas.core.frame.DataFrame'>\n",
      "RangeIndex: 7980 entries, 0 to 7979\n",
      "Data columns (total 3 columns):\n",
      " #   Column   Non-Null Count  Dtype  \n",
      "---  ------   --------------  -----  \n",
      " 0   country  7980 non-null   string \n",
      " 1   year     7980 non-null   int32  \n",
      " 2   CO2      7169 non-null   float64\n",
      "dtypes: float64(1), int32(1), string(1)\n",
      "memory usage: 156.0 KB\n"
     ]
    }
   ],
   "source": [
    "# Convert country and year to string and int types\n",
    "\n",
    "wb_co2.country = wb_co2.country.astype('string')\n",
    "wb_co2.year = wb_co2.year.astype(int) \n",
    "wb_co2.info()"
   ]
  },
  {
   "cell_type": "code",
   "execution_count": 4,
   "metadata": {},
   "outputs": [
    {
     "name": "stdout",
     "output_type": "stream",
     "text": [
      "<class 'pandas.core.frame.DataFrame'>\n",
      "RangeIndex: 7980 entries, 0 to 7979\n",
      "Data columns (total 3 columns):\n",
      " #   Column   Non-Null Count  Dtype  \n",
      "---  ------   --------------  -----  \n",
      " 0   country  7980 non-null   object \n",
      " 1   year     7980 non-null   object \n",
      " 2   GDP      7456 non-null   float64\n",
      "dtypes: float64(1), object(2)\n",
      "memory usage: 187.2+ KB\n"
     ]
    }
   ],
   "source": [
    "# Download the data for GDP per capita and rename columns\n",
    "\n",
    "wb_gdp = wb.download(indicator='NY.GDP.PCAP.CD', country='all',start=1990, end=2019)\n",
    "wb_gdp = wb_gdp.rename(columns = {'NY.GDP.PCAP.CD': 'GDP'})\n",
    "wb_gdp = wb_gdp.reset_index()\n",
    "wb_gdp.info()"
   ]
  },
  {
   "cell_type": "code",
   "execution_count": 5,
   "metadata": {},
   "outputs": [
    {
     "name": "stdout",
     "output_type": "stream",
     "text": [
      "<class 'pandas.core.frame.DataFrame'>\n",
      "RangeIndex: 7980 entries, 0 to 7979\n",
      "Data columns (total 3 columns):\n",
      " #   Column   Non-Null Count  Dtype  \n",
      "---  ------   --------------  -----  \n",
      " 0   country  7980 non-null   string \n",
      " 1   year     7980 non-null   int32  \n",
      " 2   GDP      7456 non-null   float64\n",
      "dtypes: float64(1), int32(1), string(1)\n",
      "memory usage: 156.0 KB\n"
     ]
    }
   ],
   "source": [
    "# Convert country and year to string and int types\n",
    "\n",
    "wb_gdp.country = wb_gdp.country.astype('string') \n",
    "wb_gdp.year = wb_gdp.year.astype(int)\n",
    "wb_gdp.info()"
   ]
  },
  {
   "cell_type": "code",
   "execution_count": 6,
   "metadata": {},
   "outputs": [
    {
     "name": "stdout",
     "output_type": "stream",
     "text": [
      "<class 'pandas.core.frame.DataFrame'>\n",
      "RangeIndex: 7980 entries, 0 to 7979\n",
      "Data columns (total 3 columns):\n",
      " #   Column   Non-Null Count  Dtype  \n",
      "---  ------   --------------  -----  \n",
      " 0   country  7980 non-null   object \n",
      " 1   year     7980 non-null   object \n",
      " 2   GDP_PPP  7006 non-null   float64\n",
      "dtypes: float64(1), object(2)\n",
      "memory usage: 187.2+ KB\n"
     ]
    }
   ],
   "source": [
    "# Download the data for GDP per capita PPP and rename columns \n",
    "\n",
    "wb_gdp_ppp = wb.download(indicator='NY.GDP.PCAP.PP.CD', country='all',start=1990, end=2019)\n",
    "wb_gdp_ppp = wb_gdp_ppp.rename(columns = {'NY.GDP.PCAP.PP.CD': 'GDP_PPP'}) \n",
    "wb_gdp_ppp = wb_gdp_ppp.reset_index()\n",
    "wb_gdp_ppp.info()"
   ]
  },
  {
   "cell_type": "code",
   "execution_count": 7,
   "metadata": {},
   "outputs": [
    {
     "name": "stdout",
     "output_type": "stream",
     "text": [
      "<class 'pandas.core.frame.DataFrame'>\n",
      "RangeIndex: 7980 entries, 0 to 7979\n",
      "Data columns (total 3 columns):\n",
      " #   Column   Non-Null Count  Dtype  \n",
      "---  ------   --------------  -----  \n",
      " 0   country  7980 non-null   string \n",
      " 1   year     7980 non-null   int32  \n",
      " 2   GDP_PPP  7006 non-null   float64\n",
      "dtypes: float64(1), int32(1), string(1)\n",
      "memory usage: 156.0 KB\n"
     ]
    }
   ],
   "source": [
    "# Convert country and year to string and int type \n",
    "\n",
    "wb_gdp_ppp.country = wb_gdp_ppp.country.astype('string') \n",
    "wb_gdp_ppp.year = wb_gdp_ppp.year.astype(int)\n",
    "wb_gdp_ppp.info()"
   ]
  },
  {
   "attachments": {},
   "cell_type": "markdown",
   "metadata": {},
   "source": [
    "## Explore each data set"
   ]
  },
  {
   "cell_type": "code",
   "execution_count": 8,
   "metadata": {},
   "outputs": [
    {
     "name": "stdout",
     "output_type": "stream",
     "text": [
      "count    30.000000\n",
      "mean      7.520191\n",
      "std       0.692147\n",
      "min       6.091073\n",
      "25%       6.966306\n",
      "50%       7.862938\n",
      "75%       8.001097\n",
      "max       8.476132\n",
      "Name: European Union, dtype: float64\n",
      "count    30.000000\n",
      "mean      3.630030\n",
      "std       1.547720\n",
      "min       1.668385\n",
      "25%       2.192447\n",
      "50%       3.421914\n",
      "75%       5.373656\n",
      "max       5.930202\n",
      "Name: East Asia & Pacific (excluding high income), dtype: float64\n"
     ]
    }
   ],
   "source": [
    "# Summary statistics of CO2 per country\n",
    "\n",
    "da = wb_co2.groupby(['country'])['CO2'].describe()\n",
    "\n",
    "# Print results for countries of interest\n",
    "\n",
    "print(da.loc['European Union',:])\n",
    "print(da.loc['East Asia & Pacific (excluding high income)',:])"
   ]
  },
  {
   "cell_type": "code",
   "execution_count": 9,
   "metadata": {},
   "outputs": [
    {
     "name": "stdout",
     "output_type": "stream",
     "text": [
      "count    238.000000\n",
      "mean       4.168676\n",
      "std        5.314743\n",
      "min        0.000000\n",
      "25%        0.469425\n",
      "50%        1.955093\n",
      "75%        6.676501\n",
      "max       29.553490\n",
      "Name: 1990, dtype: float64\n",
      "count    239.000000\n",
      "mean       4.085312\n",
      "std        4.473217\n",
      "min        0.035701\n",
      "25%        0.808951\n",
      "50%        2.983325\n",
      "75%        5.891936\n",
      "max       32.760848\n",
      "Name: 2019, dtype: float64\n"
     ]
    }
   ],
   "source": [
    "# Summary statistics of CO2 per year\n",
    "\n",
    "obj = wb_co2.groupby(['year'])['CO2'].describe()\n",
    "\n",
    "# Print results for years of interest\n",
    "\n",
    "print(obj.loc[1990,:])\n",
    "print(obj.loc[2019,:])"
   ]
  },
  {
   "cell_type": "code",
   "execution_count": 10,
   "metadata": {},
   "outputs": [
    {
     "data": {
      "application/vnd.jupyter.widget-view+json": {
       "model_id": "03db95e9b2f94e2cbbfa6cc4fa7b8e32",
       "version_major": 2,
       "version_minor": 0
      },
      "text/plain": [
       "interactive(children=(Dropdown(description='country', index=13, options=('Africa Eastern and Southern', 'Afric…"
      ]
     },
     "metadata": {},
     "output_type": "display_data"
    }
   ],
   "source": [
    "# Plot trend of CO2 for each country interactively \n",
    "\n",
    "def plot_co2(df, country): \n",
    "    I = df['country'] == country\n",
    "    ax=df.loc[I,:].plot('year', 'CO2')\n",
    "    \n",
    "\n",
    "widgets.interact(plot_co2, \n",
    "    df = widgets.fixed(wb_co2),\n",
    "    country = widgets.Dropdown(description='country', \n",
    "                                    options=wb_co2.country.unique(), \n",
    "                                    value='European Union')\n",
    "); "
   ]
  },
  {
   "attachments": {},
   "cell_type": "markdown",
   "metadata": {},
   "source": [
    "For Europe, CO2 metric tons per capita have decreased from around 8.5 in 1990 to around 6.2 in 2019. On the other hand, East and Pacific Asia (without high income countries), that includes developing countries, presents an increasing trend (from around 1.5 metric tons per capita of CO2 emissions in 1990 to around 6 in 2019)."
   ]
  },
  {
   "cell_type": "code",
   "execution_count": 11,
   "metadata": {},
   "outputs": [
    {
     "name": "stdout",
     "output_type": "stream",
     "text": [
      "count       30.000000\n",
      "mean     25872.779705\n",
      "std       7925.752501\n",
      "min      15461.048939\n",
      "25%      18186.773428\n",
      "50%      26825.586709\n",
      "75%      33405.162238\n",
      "max      37049.563479\n",
      "Name: European Union, dtype: float64\n",
      "count      30.000000\n",
      "mean     2922.908611\n",
      "std      2611.323170\n",
      "min       416.769540\n",
      "25%       874.257182\n",
      "50%      1531.787266\n",
      "75%      5247.248613\n",
      "max      8169.167837\n",
      "Name: East Asia & Pacific (excluding high income), dtype: float64\n"
     ]
    }
   ],
   "source": [
    "# Summary statistics of gdp for every country through the years\n",
    "\n",
    "obj2 = wb_gdp.groupby(['country'])['GDP'].describe()\n",
    "\n",
    "# Print results for countries of interest\n",
    "\n",
    "print(obj2.loc['European Union',:])\n",
    "print(obj2.loc['East Asia & Pacific (excluding high income)',:])"
   ]
  },
  {
   "cell_type": "code",
   "execution_count": 12,
   "metadata": {},
   "outputs": [
    {
     "name": "stdout",
     "output_type": "stream",
     "text": [
      "count      226.000000\n",
      "mean      5756.325328\n",
      "std       9764.935335\n",
      "min         50.782948\n",
      "25%        621.562930\n",
      "50%       1556.905654\n",
      "75%       6370.327865\n",
      "max      81813.315769\n",
      "Name: 1990, dtype: float64\n",
      "count       255.000000\n",
      "mean      17231.826925\n",
      "std       25791.647933\n",
      "min         216.972968\n",
      "25%        2186.046582\n",
      "50%        6837.717826\n",
      "75%       19809.323139\n",
      "max      199377.481832\n",
      "Name: 2019, dtype: float64\n"
     ]
    }
   ],
   "source": [
    "# Summary statistics of GDP per year\n",
    "\n",
    "obj3 = wb_gdp.groupby(['year'])['GDP'].describe()\n",
    "\n",
    "# Print results for years of interest\n",
    "\n",
    "print(obj3.loc[1990,:])\n",
    "print(obj3.loc[2019,:])"
   ]
  },
  {
   "cell_type": "code",
   "execution_count": 13,
   "metadata": {},
   "outputs": [
    {
     "data": {
      "application/vnd.jupyter.widget-view+json": {
       "model_id": "87b867b5fd124215a6bc7d6554a7cd49",
       "version_major": 2,
       "version_minor": 0
      },
      "text/plain": [
       "interactive(children=(Dropdown(description='country', index=13, options=('Africa Eastern and Southern', 'Afric…"
      ]
     },
     "metadata": {},
     "output_type": "display_data"
    }
   ],
   "source": [
    "# Plot trend of GDP for each country interactively \n",
    "\n",
    "def plot_gdp(df, country): \n",
    "    I = df['country'] == country\n",
    "    ax=df.loc[I,:].plot('year', 'GDP')\n",
    "    \n",
    "\n",
    "widgets.interact(plot_gdp, \n",
    "    df = widgets.fixed(wb_gdp),\n",
    "    country = widgets.Dropdown(description='country', \n",
    "                                    options=wb_gdp.country.unique(), \n",
    "                                    value='European Union')\n",
    "); "
   ]
  },
  {
   "attachments": {},
   "cell_type": "markdown",
   "metadata": {},
   "source": [
    "GDP in European Union has increased significantly from 1990 to 2008. Then, it is possible to notice, among others, the decrease due to the global financial crisis. GDP does not reach again the level pre crisis (around 37500 US$), but in 2019 it is 35000 US$. \n",
    "\n",
    "East and Pacific asian countries (excluding high income ones) present a sustained GDP growht during the period analysed from around 500 US$ to slighly above 8000 US$.\n"
   ]
  },
  {
   "cell_type": "code",
   "execution_count": 14,
   "metadata": {},
   "outputs": [
    {
     "name": "stdout",
     "output_type": "stream",
     "text": [
      "count       30.000000\n",
      "mean     27854.767421\n",
      "std       9577.660714\n",
      "min      14825.657696\n",
      "25%      19293.286770\n",
      "50%      26338.921315\n",
      "75%      34846.770783\n",
      "max      47487.022881\n",
      "Name: European Union, dtype: float64\n",
      "count       30.000000\n",
      "mean      6431.900215\n",
      "std       4257.425331\n",
      "min       1457.432330\n",
      "25%       2852.897805\n",
      "50%       4973.735424\n",
      "75%      10167.859055\n",
      "max      15016.853092\n",
      "Name: East Asia & Pacific (excluding high income), dtype: float64\n"
     ]
    }
   ],
   "source": [
    "# Summary statistics of GDP_PPP per country\n",
    "\n",
    "obj4 = wb_gdp_ppp.groupby(['country'])['GDP_PPP'].describe()\n",
    "\n",
    "# Print results for country of interest\n",
    "\n",
    "print(obj4.loc['European Union',:])\n",
    "print(obj4.loc['East Asia & Pacific (excluding high income)',:])"
   ]
  },
  {
   "cell_type": "code",
   "execution_count": 15,
   "metadata": {},
   "outputs": [
    {
     "name": "stdout",
     "output_type": "stream",
     "text": [
      "count      207.000000\n",
      "mean      7241.515896\n",
      "std       9551.742565\n",
      "min        284.250421\n",
      "25%       1722.266006\n",
      "50%       3666.649001\n",
      "75%       8283.032307\n",
      "max      83843.224678\n",
      "Name: 1990, dtype: float64\n",
      "count       241.000000\n",
      "mean      22006.403305\n",
      "std       22408.677449\n",
      "min         760.453399\n",
      "25%        5343.001606\n",
      "50%       14678.777879\n",
      "75%       32511.298290\n",
      "max      128005.781873\n",
      "Name: 2019, dtype: float64\n"
     ]
    }
   ],
   "source": [
    "# Summary statistics of GDP_PPP per year\n",
    "\n",
    "obj5 = wb_gdp_ppp.groupby(['year'])['GDP_PPP'].describe()\n",
    "\n",
    "# Print results for years of interest\n",
    "\n",
    "print(obj5.loc[1990,:])\n",
    "print(obj5.loc[2019,:])"
   ]
  },
  {
   "cell_type": "code",
   "execution_count": 16,
   "metadata": {},
   "outputs": [
    {
     "data": {
      "application/vnd.jupyter.widget-view+json": {
       "model_id": "c145bc3d59164a5381a68e76b99f92db",
       "version_major": 2,
       "version_minor": 0
      },
      "text/plain": [
       "interactive(children=(Dropdown(description='country', index=13, options=('Africa Eastern and Southern', 'Afric…"
      ]
     },
     "metadata": {},
     "output_type": "display_data"
    }
   ],
   "source": [
    "# Plot trend of GDP_PPP for each country interactively \n",
    "\n",
    "def plot_gdp_ppp(df, country): \n",
    "    I = df['country'] == country\n",
    "    ax=df.loc[I,:].plot('year', 'GDP_PPP')\n",
    "    \n",
    "\n",
    "widgets.interact(plot_gdp_ppp, \n",
    "    df = widgets.fixed(wb_gdp_ppp),\n",
    "    country = widgets.Dropdown(description='country', \n",
    "                                    options=wb_gdp_ppp.country.unique(), \n",
    "                                    value='European Union')\n",
    "); "
   ]
  },
  {
   "attachments": {},
   "cell_type": "markdown",
   "metadata": {},
   "source": [
    "GDP_PPP in Europe has increased significantly from 1990 to 2008, when there is a small decrese. After it, the positive trend continues up to around 47500 current international $.\n",
    "\n",
    "East and Pacific asian countries (excluding high income ones) present a sustained GDP growht during the period analysed up to around 15000 current international $."
   ]
  },
  {
   "attachments": {},
   "cell_type": "markdown",
   "metadata": {},
   "source": [
    "# Merge data sets"
   ]
  },
  {
   "cell_type": "code",
   "execution_count": 17,
   "metadata": {},
   "outputs": [],
   "source": [
    "# Drop missing values in the three datasets\n",
    "\n",
    "wb_gdp.dropna(inplace=True)\n",
    "wb_co2.dropna(inplace=True)\n",
    "wb_gdp_ppp.dropna(inplace=True)\n"
   ]
  },
  {
   "cell_type": "code",
   "execution_count": 18,
   "metadata": {},
   "outputs": [
    {
     "name": "stdout",
     "output_type": "stream",
     "text": [
      "countries in gdp data, but not in co2 data: ['American Samoa', 'Aruba', 'Bermuda', 'Cayman Islands', 'Channel Islands', 'Curacao', 'Faroe Islands', 'French Polynesia', 'Greenland', 'Guam', 'Hong Kong SAR, China', 'Isle of Man', 'Kosovo', 'Macao SAR, China', 'Monaco', 'New Caledonia', 'Northern Mariana Islands', 'Puerto Rico', 'San Marino', 'Sint Maarten (Dutch part)', 'St. Martin (French part)', 'Turks and Caicos Islands', 'Virgin Islands (U.S.)', 'West Bank and Gaza']\n",
      "countries in co2 data, but not in gdp data: [\"Korea, Dem. People's Rep.\"]\n",
      "countries in gdp data, but not in gdp_ppp data: ['American Samoa', 'Andorra', 'Channel Islands', 'Cuba', 'Faroe Islands', 'French Polynesia', 'Greenland', 'Guam', 'Isle of Man', 'Liechtenstein', 'Monaco', 'New Caledonia', 'Northern Mariana Islands', 'St. Martin (French part)', 'Syrian Arab Republic', 'Virgin Islands (U.S.)']\n",
      "countries in gdp_ppp data, but not in gdp data: []\n",
      "countries in gdp_ppp data, but not in co2 data: ['Aruba', 'Bermuda', 'Cayman Islands', 'Curacao', 'Hong Kong SAR, China', 'Kosovo', 'Macao SAR, China', 'Puerto Rico', 'San Marino', 'Sint Maarten (Dutch part)', 'Turks and Caicos Islands', 'West Bank and Gaza']\n",
      "countries in co2 data, but not in gdp_ppp data: ['Andorra', 'Cuba', \"Korea, Dem. People's Rep.\", 'Liechtenstein', 'Syrian Arab Republic']\n"
     ]
    }
   ],
   "source": [
    "# See if there are observations not common to all datasets \n",
    "\n",
    "diff_gc = [y for y in wb_gdp.country.unique() if y not in wb_co2.country.unique()] \n",
    "print(f'countries in gdp data, but not in co2 data: {diff_gc}')\n",
    "\n",
    "diff_cg = [y for y in wb_co2.country.unique() if y not in wb_gdp.country.unique()] \n",
    "print(f'countries in co2 data, but not in gdp data: {diff_cg}')\n",
    "\n",
    "diff_ggppp = [y for y in wb_gdp.country.unique() if y not in wb_gdp_ppp.country.unique()] \n",
    "print(f'countries in gdp data, but not in gdp_ppp data: {diff_ggppp}')\n",
    "\n",
    "diff_pppgg = [y for y in wb_gdp_ppp.country.unique() if y not in wb_gdp.country.unique()] \n",
    "print(f'countries in gdp_ppp data, but not in gdp data: {diff_pppgg}')\n",
    "\n",
    "diff_gcppp = [y for y in wb_gdp_ppp.country.unique() if y not in wb_co2.country.unique()] \n",
    "print(f'countries in gdp_ppp data, but not in co2 data: {diff_gcppp}')\n",
    "\n",
    "diff_cgppp = [y for y in wb_co2.country.unique() if y not in wb_gdp_ppp.country.unique()] \n",
    "print(f'countries in co2 data, but not in gdp_ppp data: {diff_cgppp}')\n"
   ]
  },
  {
   "attachments": {},
   "cell_type": "markdown",
   "metadata": {},
   "source": [
    "Since there are observations not common to all datasets, the inner merge will drop them. "
   ]
  },
  {
   "cell_type": "code",
   "execution_count": 19,
   "metadata": {},
   "outputs": [
    {
     "data": {
      "text/html": [
       "<div>\n",
       "<style scoped>\n",
       "    .dataframe tbody tr th:only-of-type {\n",
       "        vertical-align: middle;\n",
       "    }\n",
       "\n",
       "    .dataframe tbody tr th {\n",
       "        vertical-align: top;\n",
       "    }\n",
       "\n",
       "    .dataframe thead th {\n",
       "        text-align: right;\n",
       "    }\n",
       "</style>\n",
       "<table border=\"1\" class=\"dataframe\">\n",
       "  <thead>\n",
       "    <tr style=\"text-align: right;\">\n",
       "      <th></th>\n",
       "      <th>country</th>\n",
       "      <th>year</th>\n",
       "      <th>GDP</th>\n",
       "      <th>GDP_PPP</th>\n",
       "      <th>CO2</th>\n",
       "    </tr>\n",
       "  </thead>\n",
       "  <tbody>\n",
       "    <tr>\n",
       "      <th>576</th>\n",
       "      <td>IDA blend</td>\n",
       "      <td>2013</td>\n",
       "      <td>1953.690169</td>\n",
       "      <td>4520.574521</td>\n",
       "      <td>0.817224</td>\n",
       "    </tr>\n",
       "    <tr>\n",
       "      <th>3674</th>\n",
       "      <td>Iraq</td>\n",
       "      <td>1998</td>\n",
       "      <td>894.329094</td>\n",
       "      <td>7896.674287</td>\n",
       "      <td>3.981332</td>\n",
       "    </tr>\n",
       "    <tr>\n",
       "      <th>3137</th>\n",
       "      <td>Gabon</td>\n",
       "      <td>2003</td>\n",
       "      <td>4724.255010</td>\n",
       "      <td>13602.073636</td>\n",
       "      <td>4.669334</td>\n",
       "    </tr>\n",
       "    <tr>\n",
       "      <th>5586</th>\n",
       "      <td>Sierra Leone</td>\n",
       "      <td>2011</td>\n",
       "      <td>445.005362</td>\n",
       "      <td>1194.267694</td>\n",
       "      <td>0.111200</td>\n",
       "    </tr>\n",
       "    <tr>\n",
       "      <th>6121</th>\n",
       "      <td>Thailand</td>\n",
       "      <td>1994</td>\n",
       "      <td>2502.703873</td>\n",
       "      <td>6302.902066</td>\n",
       "      <td>2.338594</td>\n",
       "    </tr>\n",
       "    <tr>\n",
       "      <th>1989</th>\n",
       "      <td>Bolivia</td>\n",
       "      <td>2008</td>\n",
       "      <td>1687.583393</td>\n",
       "      <td>4794.603700</td>\n",
       "      <td>1.326580</td>\n",
       "    </tr>\n",
       "    <tr>\n",
       "      <th>3419</th>\n",
       "      <td>Guinea-Bissau</td>\n",
       "      <td>1991</td>\n",
       "      <td>258.740073</td>\n",
       "      <td>1078.530688</td>\n",
       "      <td>0.173768</td>\n",
       "    </tr>\n",
       "    <tr>\n",
       "      <th>6304</th>\n",
       "      <td>Turkmenistan</td>\n",
       "      <td>2011</td>\n",
       "      <td>5453.155005</td>\n",
       "      <td>10901.526518</td>\n",
       "      <td>12.209776</td>\n",
       "    </tr>\n",
       "    <tr>\n",
       "      <th>3247</th>\n",
       "      <td>Ghana</td>\n",
       "      <td>2013</td>\n",
       "      <td>2282.349905</td>\n",
       "      <td>5118.242139</td>\n",
       "      <td>0.567959</td>\n",
       "    </tr>\n",
       "    <tr>\n",
       "      <th>1816</th>\n",
       "      <td>Barbados</td>\n",
       "      <td>2001</td>\n",
       "      <td>11510.040433</td>\n",
       "      <td>12965.146812</td>\n",
       "      <td>4.950693</td>\n",
       "    </tr>\n",
       "    <tr>\n",
       "      <th>3050</th>\n",
       "      <td>Fiji</td>\n",
       "      <td>2000</td>\n",
       "      <td>2015.881172</td>\n",
       "      <td>5679.520947</td>\n",
       "      <td>0.970536</td>\n",
       "    </tr>\n",
       "    <tr>\n",
       "      <th>651</th>\n",
       "      <td>IDA total</td>\n",
       "      <td>1998</td>\n",
       "      <td>455.388504</td>\n",
       "      <td>1648.779837</td>\n",
       "      <td>0.467908</td>\n",
       "    </tr>\n",
       "    <tr>\n",
       "      <th>917</th>\n",
       "      <td>Middle East &amp; North Africa</td>\n",
       "      <td>2002</td>\n",
       "      <td>3113.857176</td>\n",
       "      <td>11624.015889</td>\n",
       "      <td>4.318607</td>\n",
       "    </tr>\n",
       "    <tr>\n",
       "      <th>42</th>\n",
       "      <td>Africa Western and Central</td>\n",
       "      <td>2007</td>\n",
       "      <td>1417.605050</td>\n",
       "      <td>3089.765897</td>\n",
       "      <td>0.435298</td>\n",
       "    </tr>\n",
       "    <tr>\n",
       "      <th>3790</th>\n",
       "      <td>Jamaica</td>\n",
       "      <td>1996</td>\n",
       "      <td>2919.144486</td>\n",
       "      <td>6337.231418</td>\n",
       "      <td>3.570777</td>\n",
       "    </tr>\n",
       "  </tbody>\n",
       "</table>\n",
       "</div>"
      ],
      "text/plain": [
       "                         country  year           GDP       GDP_PPP        CO2\n",
       "576                    IDA blend  2013   1953.690169   4520.574521   0.817224\n",
       "3674                        Iraq  1998    894.329094   7896.674287   3.981332\n",
       "3137                       Gabon  2003   4724.255010  13602.073636   4.669334\n",
       "5586                Sierra Leone  2011    445.005362   1194.267694   0.111200\n",
       "6121                    Thailand  1994   2502.703873   6302.902066   2.338594\n",
       "1989                     Bolivia  2008   1687.583393   4794.603700   1.326580\n",
       "3419               Guinea-Bissau  1991    258.740073   1078.530688   0.173768\n",
       "6304                Turkmenistan  2011   5453.155005  10901.526518  12.209776\n",
       "3247                       Ghana  2013   2282.349905   5118.242139   0.567959\n",
       "1816                    Barbados  2001  11510.040433  12965.146812   4.950693\n",
       "3050                        Fiji  2000   2015.881172   5679.520947   0.970536\n",
       "651                    IDA total  1998    455.388504   1648.779837   0.467908\n",
       "917   Middle East & North Africa  2002   3113.857176  11624.015889   4.318607\n",
       "42    Africa Western and Central  2007   1417.605050   3089.765897   0.435298\n",
       "3790                     Jamaica  1996   2919.144486   6337.231418   3.570777"
      ]
     },
     "execution_count": 19,
     "metadata": {},
     "output_type": "execute_result"
    }
   ],
   "source": [
    "# Inner merge of the three datasets\n",
    "\n",
    "inner = pd.merge(wb_gdp, wb_gdp_ppp, how='inner',on=['country','year'])\n",
    "inner2 = pd.merge(inner, wb_co2, how='inner',on=['country','year'])\n",
    "inner2.sample(15)"
   ]
  },
  {
   "cell_type": "code",
   "execution_count": 20,
   "metadata": {},
   "outputs": [
    {
     "data": {
      "text/html": [
       "<div>\n",
       "<style scoped>\n",
       "    .dataframe tbody tr th:only-of-type {\n",
       "        vertical-align: middle;\n",
       "    }\n",
       "\n",
       "    .dataframe tbody tr th {\n",
       "        vertical-align: top;\n",
       "    }\n",
       "\n",
       "    .dataframe thead th {\n",
       "        text-align: right;\n",
       "    }\n",
       "</style>\n",
       "<table border=\"1\" class=\"dataframe\">\n",
       "  <thead>\n",
       "    <tr style=\"text-align: right;\">\n",
       "      <th></th>\n",
       "      <th>country</th>\n",
       "      <th>year</th>\n",
       "      <th>GDP</th>\n",
       "      <th>GDP_PPP</th>\n",
       "      <th>CO2</th>\n",
       "    </tr>\n",
       "  </thead>\n",
       "  <tbody>\n",
       "    <tr>\n",
       "      <th>0</th>\n",
       "      <td>Africa Eastern and Southern</td>\n",
       "      <td>2019</td>\n",
       "      <td>1512.270553</td>\n",
       "      <td>3777.972368</td>\n",
       "      <td>0.903800</td>\n",
       "    </tr>\n",
       "    <tr>\n",
       "      <th>1</th>\n",
       "      <td>Africa Eastern and Southern</td>\n",
       "      <td>2018</td>\n",
       "      <td>1564.734340</td>\n",
       "      <td>3724.868177</td>\n",
       "      <td>0.908127</td>\n",
       "    </tr>\n",
       "    <tr>\n",
       "      <th>2</th>\n",
       "      <td>Africa Eastern and Southern</td>\n",
       "      <td>2017</td>\n",
       "      <td>1628.586788</td>\n",
       "      <td>3635.564622</td>\n",
       "      <td>0.928488</td>\n",
       "    </tr>\n",
       "    <tr>\n",
       "      <th>3</th>\n",
       "      <td>Africa Eastern and Southern</td>\n",
       "      <td>2016</td>\n",
       "      <td>1443.692371</td>\n",
       "      <td>3591.099809</td>\n",
       "      <td>0.938560</td>\n",
       "    </tr>\n",
       "    <tr>\n",
       "      <th>4</th>\n",
       "      <td>Africa Eastern and Southern</td>\n",
       "      <td>2015</td>\n",
       "      <td>1538.552268</td>\n",
       "      <td>3498.125396</td>\n",
       "      <td>0.956693</td>\n",
       "    </tr>\n",
       "    <tr>\n",
       "      <th>...</th>\n",
       "      <td>...</td>\n",
       "      <td>...</td>\n",
       "      <td>...</td>\n",
       "      <td>...</td>\n",
       "      <td>...</td>\n",
       "    </tr>\n",
       "    <tr>\n",
       "      <th>6727</th>\n",
       "      <td>Zimbabwe</td>\n",
       "      <td>1994</td>\n",
       "      <td>634.582617</td>\n",
       "      <td>1958.125364</td>\n",
       "      <td>1.469850</td>\n",
       "    </tr>\n",
       "    <tr>\n",
       "      <th>6728</th>\n",
       "      <td>Zimbabwe</td>\n",
       "      <td>1993</td>\n",
       "      <td>608.046610</td>\n",
       "      <td>1765.451300</td>\n",
       "      <td>1.581818</td>\n",
       "    </tr>\n",
       "    <tr>\n",
       "      <th>6729</th>\n",
       "      <td>Zimbabwe</td>\n",
       "      <td>1992</td>\n",
       "      <td>634.447359</td>\n",
       "      <td>1731.232789</td>\n",
       "      <td>1.735620</td>\n",
       "    </tr>\n",
       "    <tr>\n",
       "      <th>6730</th>\n",
       "      <td>Zimbabwe</td>\n",
       "      <td>1991</td>\n",
       "      <td>832.687969</td>\n",
       "      <td>1907.652490</td>\n",
       "      <td>1.763473</td>\n",
       "    </tr>\n",
       "    <tr>\n",
       "      <th>6731</th>\n",
       "      <td>Zimbabwe</td>\n",
       "      <td>1990</td>\n",
       "      <td>868.490175</td>\n",
       "      <td>1794.153648</td>\n",
       "      <td>1.634929</td>\n",
       "    </tr>\n",
       "  </tbody>\n",
       "</table>\n",
       "<p>6732 rows × 5 columns</p>\n",
       "</div>"
      ],
      "text/plain": [
       "                          country  year          GDP      GDP_PPP       CO2\n",
       "0     Africa Eastern and Southern  2019  1512.270553  3777.972368  0.903800\n",
       "1     Africa Eastern and Southern  2018  1564.734340  3724.868177  0.908127\n",
       "2     Africa Eastern and Southern  2017  1628.586788  3635.564622  0.928488\n",
       "3     Africa Eastern and Southern  2016  1443.692371  3591.099809  0.938560\n",
       "4     Africa Eastern and Southern  2015  1538.552268  3498.125396  0.956693\n",
       "...                           ...   ...          ...          ...       ...\n",
       "6727                     Zimbabwe  1994   634.582617  1958.125364  1.469850\n",
       "6728                     Zimbabwe  1993   608.046610  1765.451300  1.581818\n",
       "6729                     Zimbabwe  1992   634.447359  1731.232789  1.735620\n",
       "6730                     Zimbabwe  1991   832.687969  1907.652490  1.763473\n",
       "6731                     Zimbabwe  1990   868.490175  1794.153648  1.634929\n",
       "\n",
       "[6732 rows x 5 columns]"
      ]
     },
     "execution_count": 20,
     "metadata": {},
     "output_type": "execute_result"
    }
   ],
   "source": [
    "# Visualise the dataset\n",
    "\n",
    "inner2"
   ]
  },
  {
   "attachments": {},
   "cell_type": "markdown",
   "metadata": {},
   "source": [
    "# Analysis"
   ]
  },
  {
   "cell_type": "code",
   "execution_count": 21,
   "metadata": {},
   "outputs": [
    {
     "data": {
      "text/html": [
       "<div>\n",
       "<style scoped>\n",
       "    .dataframe tbody tr th:only-of-type {\n",
       "        vertical-align: middle;\n",
       "    }\n",
       "\n",
       "    .dataframe tbody tr th {\n",
       "        vertical-align: top;\n",
       "    }\n",
       "\n",
       "    .dataframe thead th {\n",
       "        text-align: right;\n",
       "    }\n",
       "</style>\n",
       "<table border=\"1\" class=\"dataframe\">\n",
       "  <thead>\n",
       "    <tr style=\"text-align: right;\">\n",
       "      <th></th>\n",
       "      <th>GDP</th>\n",
       "      <th>GDP_PPP</th>\n",
       "      <th>CO2</th>\n",
       "    </tr>\n",
       "  </thead>\n",
       "  <tbody>\n",
       "    <tr>\n",
       "      <th>count</th>\n",
       "      <td>6732.000000</td>\n",
       "      <td>6732.000000</td>\n",
       "      <td>6732.000000</td>\n",
       "    </tr>\n",
       "    <tr>\n",
       "      <th>mean</th>\n",
       "      <td>9114.428234</td>\n",
       "      <td>13159.428164</td>\n",
       "      <td>4.159554</td>\n",
       "    </tr>\n",
       "    <tr>\n",
       "      <th>std</th>\n",
       "      <td>14595.169496</td>\n",
       "      <td>16336.790637</td>\n",
       "      <td>5.087030</td>\n",
       "    </tr>\n",
       "    <tr>\n",
       "      <th>min</th>\n",
       "      <td>22.850371</td>\n",
       "      <td>285.047875</td>\n",
       "      <td>0.000000</td>\n",
       "    </tr>\n",
       "    <tr>\n",
       "      <th>25%</th>\n",
       "      <td>951.475339</td>\n",
       "      <td>2742.687234</td>\n",
       "      <td>0.663085</td>\n",
       "    </tr>\n",
       "    <tr>\n",
       "      <th>50%</th>\n",
       "      <td>2972.974951</td>\n",
       "      <td>7065.879747</td>\n",
       "      <td>2.359767</td>\n",
       "    </tr>\n",
       "    <tr>\n",
       "      <th>75%</th>\n",
       "      <td>9729.391599</td>\n",
       "      <td>16723.134617</td>\n",
       "      <td>6.131666</td>\n",
       "    </tr>\n",
       "    <tr>\n",
       "      <th>max</th>\n",
       "      <td>123678.702143</td>\n",
       "      <td>163219.491990</td>\n",
       "      <td>47.655548</td>\n",
       "    </tr>\n",
       "  </tbody>\n",
       "</table>\n",
       "</div>"
      ],
      "text/plain": [
       "                 GDP        GDP_PPP          CO2\n",
       "count    6732.000000    6732.000000  6732.000000\n",
       "mean     9114.428234   13159.428164     4.159554\n",
       "std     14595.169496   16336.790637     5.087030\n",
       "min        22.850371     285.047875     0.000000\n",
       "25%       951.475339    2742.687234     0.663085\n",
       "50%      2972.974951    7065.879747     2.359767\n",
       "75%      9729.391599   16723.134617     6.131666\n",
       "max    123678.702143  163219.491990    47.655548"
      ]
     },
     "execution_count": 21,
     "metadata": {},
     "output_type": "execute_result"
    }
   ],
   "source": [
    "# Summary statistics of all observations (all years for all countries)\n",
    "\n",
    "inner2.iloc[:, 2:5].describe()\n"
   ]
  },
  {
   "cell_type": "code",
   "execution_count": 22,
   "metadata": {},
   "outputs": [
    {
     "data": {
      "text/html": [
       "<div>\n",
       "<style scoped>\n",
       "    .dataframe tbody tr th:only-of-type {\n",
       "        vertical-align: middle;\n",
       "    }\n",
       "\n",
       "    .dataframe tbody tr th {\n",
       "        vertical-align: top;\n",
       "    }\n",
       "\n",
       "    .dataframe thead th {\n",
       "        text-align: right;\n",
       "    }\n",
       "</style>\n",
       "<table border=\"1\" class=\"dataframe\">\n",
       "  <thead>\n",
       "    <tr style=\"text-align: right;\">\n",
       "      <th></th>\n",
       "      <th>year</th>\n",
       "      <th>GDP</th>\n",
       "      <th>GDP_PPP</th>\n",
       "      <th>CO2</th>\n",
       "      <th>mean_per_country_CO2</th>\n",
       "      <th>mean_per_country_GDP</th>\n",
       "    </tr>\n",
       "    <tr>\n",
       "      <th>country</th>\n",
       "      <th></th>\n",
       "      <th></th>\n",
       "      <th></th>\n",
       "      <th></th>\n",
       "      <th></th>\n",
       "      <th></th>\n",
       "    </tr>\n",
       "  </thead>\n",
       "  <tbody>\n",
       "    <tr>\n",
       "      <th>Ukraine</th>\n",
       "      <td>2012</td>\n",
       "      <td>4004.804443</td>\n",
       "      <td>9705.358398</td>\n",
       "      <td>6.077865</td>\n",
       "      <td>6.704892</td>\n",
       "      <td>2062.517039</td>\n",
       "    </tr>\n",
       "    <tr>\n",
       "      <th>Congo, Dem. Rep.</th>\n",
       "      <td>1999</td>\n",
       "      <td>99.757251</td>\n",
       "      <td>467.894228</td>\n",
       "      <td>0.044360</td>\n",
       "      <td>0.043662</td>\n",
       "      <td>290.982585</td>\n",
       "    </tr>\n",
       "    <tr>\n",
       "      <th>Cameroon</th>\n",
       "      <td>1993</td>\n",
       "      <td>1295.916368</td>\n",
       "      <td>1712.721313</td>\n",
       "      <td>0.461833</td>\n",
       "      <td>0.360320</td>\n",
       "      <td>1160.836947</td>\n",
       "    </tr>\n",
       "    <tr>\n",
       "      <th>IDA only</th>\n",
       "      <td>2015</td>\n",
       "      <td>1070.690260</td>\n",
       "      <td>2906.423047</td>\n",
       "      <td>0.338613</td>\n",
       "      <td>0.282375</td>\n",
       "      <td>720.082112</td>\n",
       "    </tr>\n",
       "    <tr>\n",
       "      <th>Jamaica</th>\n",
       "      <td>1992</td>\n",
       "      <td>1452.188387</td>\n",
       "      <td>5348.169457</td>\n",
       "      <td>3.345678</td>\n",
       "      <td>3.350498</td>\n",
       "      <td>3940.872183</td>\n",
       "    </tr>\n",
       "    <tr>\n",
       "      <th>Latin America &amp; the Caribbean (IDA &amp; IBRD coun...</th>\n",
       "      <td>2012</td>\n",
       "      <td>10144.344579</td>\n",
       "      <td>14374.698566</td>\n",
       "      <td>2.859191</td>\n",
       "      <td>2.467091</td>\n",
       "      <td>6048.533050</td>\n",
       "    </tr>\n",
       "    <tr>\n",
       "      <th>Grenada</th>\n",
       "      <td>1996</td>\n",
       "      <td>3499.527349</td>\n",
       "      <td>5332.907716</td>\n",
       "      <td>1.802644</td>\n",
       "      <td>2.328654</td>\n",
       "      <td>5825.630229</td>\n",
       "    </tr>\n",
       "    <tr>\n",
       "      <th>Belize</th>\n",
       "      <td>1999</td>\n",
       "      <td>4189.350028</td>\n",
       "      <td>6756.762852</td>\n",
       "      <td>1.756519</td>\n",
       "      <td>1.983785</td>\n",
       "      <td>4956.821117</td>\n",
       "    </tr>\n",
       "    <tr>\n",
       "      <th>Solomon Islands</th>\n",
       "      <td>1991</td>\n",
       "      <td>681.344273</td>\n",
       "      <td>1377.072984</td>\n",
       "      <td>0.479410</td>\n",
       "      <td>0.573455</td>\n",
       "      <td>1440.749582</td>\n",
       "    </tr>\n",
       "    <tr>\n",
       "      <th>Russian Federation</th>\n",
       "      <td>2011</td>\n",
       "      <td>14311.083984</td>\n",
       "      <td>22798.673828</td>\n",
       "      <td>11.884962</td>\n",
       "      <td>11.468692</td>\n",
       "      <td>6793.223429</td>\n",
       "    </tr>\n",
       "    <tr>\n",
       "      <th>Cyprus</th>\n",
       "      <td>1996</td>\n",
       "      <td>15139.226562</td>\n",
       "      <td>17319.966797</td>\n",
       "      <td>7.057830</td>\n",
       "      <td>6.829781</td>\n",
       "      <td>21632.031836</td>\n",
       "    </tr>\n",
       "    <tr>\n",
       "      <th>Burkina Faso</th>\n",
       "      <td>2005</td>\n",
       "      <td>442.944400</td>\n",
       "      <td>1176.357297</td>\n",
       "      <td>0.076721</td>\n",
       "      <td>0.111840</td>\n",
       "      <td>472.247088</td>\n",
       "    </tr>\n",
       "    <tr>\n",
       "      <th>Congo, Rep.</th>\n",
       "      <td>2012</td>\n",
       "      <td>3753.861207</td>\n",
       "      <td>6062.822776</td>\n",
       "      <td>1.116351</td>\n",
       "      <td>1.134677</td>\n",
       "      <td>1805.688151</td>\n",
       "    </tr>\n",
       "    <tr>\n",
       "      <th>Jordan</th>\n",
       "      <td>1993</td>\n",
       "      <td>1375.450254</td>\n",
       "      <td>5041.029805</td>\n",
       "      <td>2.994240</td>\n",
       "      <td>2.986270</td>\n",
       "      <td>2654.750643</td>\n",
       "    </tr>\n",
       "    <tr>\n",
       "      <th>Montenegro</th>\n",
       "      <td>2007</td>\n",
       "      <td>5976.394145</td>\n",
       "      <td>12460.737346</td>\n",
       "      <td>3.407185</td>\n",
       "      <td>3.515066</td>\n",
       "      <td>5713.984204</td>\n",
       "    </tr>\n",
       "  </tbody>\n",
       "</table>\n",
       "</div>"
      ],
      "text/plain": [
       "                                                   year           GDP  \\\n",
       "country                                                                 \n",
       "Ukraine                                            2012   4004.804443   \n",
       "Congo, Dem. Rep.                                   1999     99.757251   \n",
       "Cameroon                                           1993   1295.916368   \n",
       "IDA only                                           2015   1070.690260   \n",
       "Jamaica                                            1992   1452.188387   \n",
       "Latin America & the Caribbean (IDA & IBRD coun...  2012  10144.344579   \n",
       "Grenada                                            1996   3499.527349   \n",
       "Belize                                             1999   4189.350028   \n",
       "Solomon Islands                                    1991    681.344273   \n",
       "Russian Federation                                 2011  14311.083984   \n",
       "Cyprus                                             1996  15139.226562   \n",
       "Burkina Faso                                       2005    442.944400   \n",
       "Congo, Rep.                                        2012   3753.861207   \n",
       "Jordan                                             1993   1375.450254   \n",
       "Montenegro                                         2007   5976.394145   \n",
       "\n",
       "                                                        GDP_PPP        CO2  \\\n",
       "country                                                                      \n",
       "Ukraine                                             9705.358398   6.077865   \n",
       "Congo, Dem. Rep.                                     467.894228   0.044360   \n",
       "Cameroon                                            1712.721313   0.461833   \n",
       "IDA only                                            2906.423047   0.338613   \n",
       "Jamaica                                             5348.169457   3.345678   \n",
       "Latin America & the Caribbean (IDA & IBRD coun...  14374.698566   2.859191   \n",
       "Grenada                                             5332.907716   1.802644   \n",
       "Belize                                              6756.762852   1.756519   \n",
       "Solomon Islands                                     1377.072984   0.479410   \n",
       "Russian Federation                                 22798.673828  11.884962   \n",
       "Cyprus                                             17319.966797   7.057830   \n",
       "Burkina Faso                                        1176.357297   0.076721   \n",
       "Congo, Rep.                                         6062.822776   1.116351   \n",
       "Jordan                                              5041.029805   2.994240   \n",
       "Montenegro                                         12460.737346   3.407185   \n",
       "\n",
       "                                                   mean_per_country_CO2  \\\n",
       "country                                                                   \n",
       "Ukraine                                                        6.704892   \n",
       "Congo, Dem. Rep.                                               0.043662   \n",
       "Cameroon                                                       0.360320   \n",
       "IDA only                                                       0.282375   \n",
       "Jamaica                                                        3.350498   \n",
       "Latin America & the Caribbean (IDA & IBRD coun...              2.467091   \n",
       "Grenada                                                        2.328654   \n",
       "Belize                                                         1.983785   \n",
       "Solomon Islands                                                0.573455   \n",
       "Russian Federation                                            11.468692   \n",
       "Cyprus                                                         6.829781   \n",
       "Burkina Faso                                                   0.111840   \n",
       "Congo, Rep.                                                    1.134677   \n",
       "Jordan                                                         2.986270   \n",
       "Montenegro                                                     3.515066   \n",
       "\n",
       "                                                   mean_per_country_GDP  \n",
       "country                                                                  \n",
       "Ukraine                                                     2062.517039  \n",
       "Congo, Dem. Rep.                                             290.982585  \n",
       "Cameroon                                                    1160.836947  \n",
       "IDA only                                                     720.082112  \n",
       "Jamaica                                                     3940.872183  \n",
       "Latin America & the Caribbean (IDA & IBRD coun...           6048.533050  \n",
       "Grenada                                                     5825.630229  \n",
       "Belize                                                      4956.821117  \n",
       "Solomon Islands                                             1440.749582  \n",
       "Russian Federation                                          6793.223429  \n",
       "Cyprus                                                     21632.031836  \n",
       "Burkina Faso                                                 472.247088  \n",
       "Congo, Rep.                                                 1805.688151  \n",
       "Jordan                                                      2654.750643  \n",
       "Montenegro                                                  5713.984204  "
      ]
     },
     "execution_count": 22,
     "metadata": {},
     "output_type": "execute_result"
    }
   ],
   "source": [
    "# Calculate mean of CO2 per country and combine it to the dataset \n",
    "\n",
    "groupbycountry = inner2.groupby(['country'])['CO2']\n",
    "groupbycountry_mean =  groupbycountry.mean()\n",
    "groupbycountry_mean.name = 'mean_per_country_CO2'\n",
    "inner3= inner2.set_index('country').join(groupbycountry_mean, how='left')\n",
    "\n",
    "# Calculate mean of GDP per country and combine it to the dataset \n",
    "\n",
    "groupbycountryGDP = inner2.groupby(['country'])['GDP']\n",
    "groupbycountryGDP_mean =  groupbycountryGDP.mean()\n",
    "groupbycountryGDP_mean.name = 'mean_per_country_GDP'\n",
    "inner4= inner3.join(groupbycountryGDP_mean, how='left')\n",
    "inner4.sample(15)\n"
   ]
  },
  {
   "cell_type": "code",
   "execution_count": 23,
   "metadata": {},
   "outputs": [
    {
     "data": {
      "image/png": "[encoded data removed]",
      "text/plain": [
       "<Figure size 640x480 with 1 Axes>"
      ]
     },
     "metadata": {},
     "output_type": "display_data"
    }
   ],
   "source": [
    "# Plot average emissions per country with average gdp per country \n",
    "\n",
    "I = inner4[\"year\"] == 1995\n",
    "data_mean = inner4[I]\n",
    "ax = data_mean.plot(x = 'mean_per_country_GDP', y = 'mean_per_country_CO2', kind = 'scatter'); \n"
   ]
  },
  {
   "attachments": {},
   "cell_type": "markdown",
   "metadata": {},
   "source": [
    "Considering the average CO2 and GDP per country through the time period of analysis, we can see that at higher levels of GDP correspond higher levels of CO2 up to around 30000 US$, then we notice an inversion of this relation (excluding some outliers). "
   ]
  },
  {
   "cell_type": "code",
   "execution_count": 24,
   "metadata": {},
   "outputs": [
    {
     "data": {
      "image/png": "[encoded data removed]",
      "text/plain": [
       "<Figure size 640x480 with 1 Axes>"
      ]
     },
     "metadata": {},
     "output_type": "display_data"
    }
   ],
   "source": [
    "# Calculate mean of GDP_PPP per country and combine it to the dataset inner3\n",
    "\n",
    "groupbycountryGDP_PPP = inner2.groupby(['country'])['GDP_PPP']\n",
    "groupbycountryGDP_PPP_mean =  groupbycountryGDP_PPP.mean()\n",
    "groupbycountryGDP_PPP_mean.name = 'mean_per_country_GDP_PPP'\n",
    "inner5= inner3.join(groupbycountryGDP_PPP_mean, how='left')\n",
    "\n",
    "# Plot average emissions per country with average gdp_ppp per country \n",
    "\n",
    "F = inner5[\"year\"] == 1995\n",
    "data_mean_ppp = inner5[F]\n",
    "ax2 = data_mean_ppp.plot(x = 'mean_per_country_GDP_PPP', y = 'mean_per_country_CO2', kind = 'scatter'); "
   ]
  },
  {
   "attachments": {},
   "cell_type": "markdown",
   "metadata": {},
   "source": [
    "With GDP adjusted for Purchasing Power Parity data, the relationship between the two means seems more linear than the case with GDP data, even though after 30000 international $ we notice a inverse relationship for some observations. "
   ]
  },
  {
   "cell_type": "code",
   "execution_count": 25,
   "metadata": {},
   "outputs": [
    {
     "data": {
      "application/vnd.jupyter.widget-view+json": {
       "model_id": "335c964cfbcd4972b1b5dc9e0644c224",
       "version_major": 2,
       "version_minor": 0
      },
      "text/plain": [
       "interactive(children=(Dropdown(description='country', index=13, options=('Africa Eastern and Southern', 'Afric…"
      ]
     },
     "metadata": {},
     "output_type": "display_data"
    }
   ],
   "source": [
    "# Define function to plot interactively GDP and CO2 per country\n",
    "\n",
    "def plot_co2gdp(df, country): \n",
    "    I = df['country'] == country\n",
    "    ax=df.loc[I,:].plot.scatter('GDP', 'CO2', c='year')\n",
    "    ax.set_xlim(22,80000) # scale graph to make comparison between countries\n",
    "    ax.set_ylim(0,10)\n",
    "\n",
    "# Plot GDP and CO2 per country, coloured by year\n",
    "\n",
    "widgets.interact(plot_co2gdp, \n",
    "    df = widgets.fixed(inner2),\n",
    "    country = widgets.Dropdown(description='country', \n",
    "                                    options=inner2.country.unique(), \n",
    "                                    value='European Union')\n",
    "); \n"
   ]
  },
  {
   "attachments": {},
   "cell_type": "markdown",
   "metadata": {},
   "source": [
    "For East and Pacific asian countries (excluding high income) we see higher level of emissions per capita for higher level of GDP per capita, considering that GDP arrives at around 10000 US$ in 2019. So there is the possibility that they are in the initial part of the EKC. \n",
    "\n",
    "For European Union countries, we see an inverse U-shape curve, but the range of its GDP is in fact higher than the previous countries. "
   ]
  },
  {
   "cell_type": "code",
   "execution_count": 26,
   "metadata": {},
   "outputs": [
    {
     "data": {
      "application/vnd.jupyter.widget-view+json": {
       "model_id": "6e8ad234fe754a69b486c87abe0acae7",
       "version_major": 2,
       "version_minor": 0
      },
      "text/plain": [
       "interactive(children=(Dropdown(description='country', index=13, options=('Africa Eastern and Southern', 'Afric…"
      ]
     },
     "metadata": {},
     "output_type": "display_data"
    }
   ],
   "source": [
    "# Define function to plot interactively\n",
    "\n",
    "def plot_co2gdp(df, country): \n",
    "    I = df['country'] == country\n",
    "    ax=df.loc[I,:].plot.scatter('GDP_PPP', 'CO2', c='year')\n",
    "    ax.set_xlim(22,80000)\n",
    "    ax.set_ylim(0,10)\n",
    "\n",
    "# Plot GDP and CO2 per country, coloured by year\n",
    "\n",
    "widgets.interact(plot_co2gdp, \n",
    "    df = widgets.fixed(inner2),\n",
    "    country = widgets.Dropdown(description='country', \n",
    "                                    options=inner2.country.unique(), \n",
    "                                    value='European Union')\n",
    "); "
   ]
  },
  {
   "attachments": {},
   "cell_type": "markdown",
   "metadata": {},
   "source": [
    "The trends are similar to the previous case with GDP data."
   ]
  },
  {
   "attachments": {},
   "cell_type": "markdown",
   "metadata": {},
   "source": [
    "Now we want to analyse specifically our variables for the year 2019. "
   ]
  },
  {
   "cell_type": "code",
   "execution_count": 27,
   "metadata": {},
   "outputs": [
    {
     "data": {
      "text/html": [
       "<div>\n",
       "<style scoped>\n",
       "    .dataframe tbody tr th:only-of-type {\n",
       "        vertical-align: middle;\n",
       "    }\n",
       "\n",
       "    .dataframe tbody tr th {\n",
       "        vertical-align: top;\n",
       "    }\n",
       "\n",
       "    .dataframe thead th {\n",
       "        text-align: right;\n",
       "    }\n",
       "</style>\n",
       "<table border=\"1\" class=\"dataframe\">\n",
       "  <thead>\n",
       "    <tr style=\"text-align: right;\">\n",
       "      <th></th>\n",
       "      <th>year</th>\n",
       "      <th>GDP</th>\n",
       "      <th>GDP_PPP</th>\n",
       "      <th>CO2</th>\n",
       "    </tr>\n",
       "  </thead>\n",
       "  <tbody>\n",
       "    <tr>\n",
       "      <th>count</th>\n",
       "      <td>230.0</td>\n",
       "      <td>230.000000</td>\n",
       "      <td>230.000000</td>\n",
       "      <td>230.000000</td>\n",
       "    </tr>\n",
       "    <tr>\n",
       "      <th>mean</th>\n",
       "      <td>2019.0</td>\n",
       "      <td>13475.987118</td>\n",
       "      <td>20615.135522</td>\n",
       "      <td>4.154661</td>\n",
       "    </tr>\n",
       "    <tr>\n",
       "      <th>std</th>\n",
       "      <td>0.0</td>\n",
       "      <td>18388.430328</td>\n",
       "      <td>20659.074121</td>\n",
       "      <td>4.528480</td>\n",
       "    </tr>\n",
       "    <tr>\n",
       "      <th>min</th>\n",
       "      <td>2019.0</td>\n",
       "      <td>216.972968</td>\n",
       "      <td>760.453399</td>\n",
       "      <td>0.035701</td>\n",
       "    </tr>\n",
       "    <tr>\n",
       "      <th>25%</th>\n",
       "      <td>2019.0</td>\n",
       "      <td>1975.513423</td>\n",
       "      <td>5090.827464</td>\n",
       "      <td>0.830014</td>\n",
       "    </tr>\n",
       "    <tr>\n",
       "      <th>50%</th>\n",
       "      <td>2019.0</td>\n",
       "      <td>6140.476798</td>\n",
       "      <td>14311.055981</td>\n",
       "      <td>3.076248</td>\n",
       "    </tr>\n",
       "    <tr>\n",
       "      <th>75%</th>\n",
       "      <td>2019.0</td>\n",
       "      <td>15697.674286</td>\n",
       "      <td>29761.402274</td>\n",
       "      <td>5.941443</td>\n",
       "    </tr>\n",
       "    <tr>\n",
       "      <th>max</th>\n",
       "      <td>2019.0</td>\n",
       "      <td>112621.821337</td>\n",
       "      <td>120175.325899</td>\n",
       "      <td>32.760848</td>\n",
       "    </tr>\n",
       "  </tbody>\n",
       "</table>\n",
       "</div>"
      ],
      "text/plain": [
       "         year            GDP        GDP_PPP         CO2\n",
       "count   230.0     230.000000     230.000000  230.000000\n",
       "mean   2019.0   13475.987118   20615.135522    4.154661\n",
       "std       0.0   18388.430328   20659.074121    4.528480\n",
       "min    2019.0     216.972968     760.453399    0.035701\n",
       "25%    2019.0    1975.513423    5090.827464    0.830014\n",
       "50%    2019.0    6140.476798   14311.055981    3.076248\n",
       "75%    2019.0   15697.674286   29761.402274    5.941443\n",
       "max    2019.0  112621.821337  120175.325899   32.760848"
      ]
     },
     "execution_count": 27,
     "metadata": {},
     "output_type": "execute_result"
    }
   ],
   "source": [
    "# Select observations for 2019\n",
    "ttnineteen = inner2.loc[inner2['year'] == 2019, :]\n",
    "\n",
    "# Summary statistics for 2019 \n",
    "ttnineteen.describe()"
   ]
  },
  {
   "cell_type": "code",
   "execution_count": 28,
   "metadata": {},
   "outputs": [
    {
     "data": {
      "text/plain": [
       "country           Qatar\n",
       "year               2019\n",
       "GDP        62637.275108\n",
       "GDP_PPP    94674.312143\n",
       "CO2           32.760848\n",
       "Name: 5304, dtype: object"
      ]
     },
     "execution_count": 28,
     "metadata": {},
     "output_type": "execute_result"
    }
   ],
   "source": [
    "# Get the country with the highest co2 emissions per capita in 2019\n",
    "\n",
    "max_co2 = ttnineteen.loc[ttnineteen['CO2'].idxmax()]\n",
    "max_co2.head()"
   ]
  },
  {
   "cell_type": "code",
   "execution_count": 29,
   "metadata": {},
   "outputs": [
    {
     "data": {
      "text/plain": [
       "country       Luxembourg\n",
       "year                2019\n",
       "GDP        112621.821337\n",
       "GDP_PPP    120175.325899\n",
       "CO2            15.305137\n",
       "Name: 4216, dtype: object"
      ]
     },
     "execution_count": 29,
     "metadata": {},
     "output_type": "execute_result"
    }
   ],
   "source": [
    "# Get the country with the highest gdp per capita in 2019\n",
    "\n",
    "max_gdp = ttnineteen.loc[ttnineteen['GDP'].idxmax()]\n",
    "max_gdp.head()\n"
   ]
  },
  {
   "attachments": {},
   "cell_type": "markdown",
   "metadata": {},
   "source": [
    "So, in 2019, Qatar is the country with highest CO2 emissions per capita and Luxembourg is the country with highest GDP per capita. "
   ]
  },
  {
   "attachments": {},
   "cell_type": "markdown",
   "metadata": {},
   "source": [
    "# Conclusion"
   ]
  },
  {
   "attachments": {},
   "cell_type": "markdown",
   "metadata": {},
   "source": [
    "We performed some explorations of the dataset that give an overview of the data. We took as examples the European Union, with developed countries, and the developing countries in East and Pacific Asia. Then we plotted data and summary statistics for both GDP per capita and CO2 per capita (and we repeated the same analysis with GDP adjusted for PPP): our general and raw analysis seems to conferm the inverse U-shape curve hypothesized by the EKC."
   ]
  }
 ],
 "metadata": {
  "kernelspec": {
   "display_name": "base",
   "language": "python",
   "name": "python3"
  },
  "language_info": {
   "codemirror_mode": {
    "name": "ipython",
    "version": 3
   },
   "file_extension": ".py",
   "mimetype": "text/x-python",
   "name": "python",
   "nbconvert_exporter": "python",
   "pygments_lexer": "ipython3",
   "version": "3.9.16"
  },
  "toc-autonumbering": true,
  "vscode": {
   "interpreter": {
    "hash": "da85033cedb98b31b1433b6f2cc4166856fa3553c7ba9393de504ae5f081c3aa"
   }
  }
 },
 "nbformat": 4,
 "nbformat_minor": 4
}
