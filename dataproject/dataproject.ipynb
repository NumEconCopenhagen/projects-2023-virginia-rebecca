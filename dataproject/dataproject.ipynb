{
 "cells": [
  {
   "attachments": {},
   "cell_type": "markdown",
   "metadata": {},
   "source": [
    "# CO2 EMISSIONS AND INCOME PER CAPITA"
   ]
  },
  {
   "attachments": {},
   "cell_type": "markdown",
   "metadata": {},
   "source": [
    "Environmental economics scholars have studied the relationship between economic growth and the environment. A popular hypothesis in the literature regards the Environmental Kuznets Curve (EKC), according to which economic growth harms the environment only up to a certain level of income per capita, after which the effects of economic growth are beneficial for it (Stern, 2017). Since the appearance of the hypothesis there has been a huge debate about it. Considering this framework, in this project we want to explore data about income per capita and the environment. "
   ]
  },
  {
   "cell_type": "code",
   "execution_count": 1,
   "metadata": {},
   "outputs": [],
   "source": [
    "# import relevant libraries and modules \n",
    "\n",
    "import pandas as pd\n",
    "import numpy as np\n",
    "import matplotlib.pyplot as plt\n",
    "import ipywidgets as widgets\n",
    "\n",
    "from pandas_datareader import wb # API to read data from the website of the World Bank\n",
    "\n",
    "import datetime\n",
    "import pandas_datareader # install with `pip install pandas-datareader`\n",
    "import pydst # install with `pip install git+https://github.com/elben10/pydst`\n",
    "\n",
    "plt.rcParams.update({\"axes.grid\":True,\"grid.color\":\"black\",\"grid.alpha\":\"0.25\",\"grid.linestyle\":\"--\"})\n",
    "plt.rcParams.update({'font.size': 14})\n",
    "\n",
    "%load_ext autoreload\n",
    "%autoreload 2"
   ]
  },
  {
   "cell_type": "markdown",
   "metadata": {},
   "source": [
    "# Read and clean data"
   ]
  },
  {
   "attachments": {},
   "cell_type": "markdown",
   "metadata": {},
   "source": [
    "To explore our topic, we take from the website of the World Bank data for the GDP per capita (in current US$), the GDP per capita PPP (in current international $) and for CO2 emissions (in metric tons per capita). We want data for all the countries for the period 1990 - 2019. "
   ]
  },
  {
   "cell_type": "code",
   "execution_count": 2,
   "metadata": {},
   "outputs": [
    {
     "name": "stdout",
     "output_type": "stream",
     "text": [
      "<class 'pandas.core.frame.DataFrame'>\n",
      "RangeIndex: 7980 entries, 0 to 7979\n",
      "Data columns (total 3 columns):\n",
      " #   Column   Non-Null Count  Dtype  \n",
      "---  ------   --------------  -----  \n",
      " 0   country  7980 non-null   object \n",
      " 1   year     7980 non-null   object \n",
      " 2   CO2      7147 non-null   float64\n",
      "dtypes: float64(1), object(2)\n",
      "memory usage: 187.2+ KB\n"
     ]
    }
   ],
   "source": [
    "# Download the data for CO2 emissions and rename columns\n",
    "\n",
    "wb_co2 = wb.download(indicator='EN.ATM.CO2E.PC', country='all', start=1990, end=2019)\n",
    "wb_co2 = wb_co2.rename(columns = {'EN.ATM.CO2E.PC':'CO2'}) \n",
    "wb_co2 = wb_co2.reset_index()\n",
    "wb_co2.info()"
   ]
  },
  {
   "cell_type": "code",
   "execution_count": 3,
   "metadata": {},
   "outputs": [
    {
     "name": "stdout",
     "output_type": "stream",
     "text": [
      "<class 'pandas.core.frame.DataFrame'>\n",
      "RangeIndex: 7980 entries, 0 to 7979\n",
      "Data columns (total 3 columns):\n",
      " #   Column   Non-Null Count  Dtype  \n",
      "---  ------   --------------  -----  \n",
      " 0   country  7980 non-null   string \n",
      " 1   year     7980 non-null   int32  \n",
      " 2   CO2      7147 non-null   float64\n",
      "dtypes: float64(1), int32(1), string(1)\n",
      "memory usage: 156.0 KB\n"
     ]
    }
   ],
   "source": [
    "# Convert country and year to string and int types\n",
    "\n",
    "wb_co2.country = wb_co2.country.astype('string')\n",
    "wb_co2.year = wb_co2.year.astype(int) \n",
    "wb_co2.info()"
   ]
  },
  {
   "cell_type": "code",
   "execution_count": 4,
   "metadata": {},
   "outputs": [
    {
     "name": "stdout",
     "output_type": "stream",
     "text": [
      "<class 'pandas.core.frame.DataFrame'>\n",
      "RangeIndex: 7980 entries, 0 to 7979\n",
      "Data columns (total 3 columns):\n",
      " #   Column   Non-Null Count  Dtype  \n",
      "---  ------   --------------  -----  \n",
      " 0   country  7980 non-null   object \n",
      " 1   year     7980 non-null   object \n",
      " 2   GDP      7456 non-null   float64\n",
      "dtypes: float64(1), object(2)\n",
      "memory usage: 187.2+ KB\n"
     ]
    }
   ],
   "source": [
    "# Download the data for GDP per capita and rename columns\n",
    "\n",
    "wb_gdp = wb.download(indicator='NY.GDP.PCAP.CD', country='all',start=1990, end=2019)\n",
    "wb_gdp = wb_gdp.rename(columns = {'NY.GDP.PCAP.CD': 'GDP'})\n",
    "wb_gdp = wb_gdp.reset_index()\n",
    "wb_gdp.info()"
   ]
  },
  {
   "cell_type": "code",
   "execution_count": 5,
   "metadata": {},
   "outputs": [
    {
     "name": "stdout",
     "output_type": "stream",
     "text": [
      "<class 'pandas.core.frame.DataFrame'>\n",
      "RangeIndex: 7980 entries, 0 to 7979\n",
      "Data columns (total 3 columns):\n",
      " #   Column   Non-Null Count  Dtype  \n",
      "---  ------   --------------  -----  \n",
      " 0   country  7980 non-null   string \n",
      " 1   year     7980 non-null   int32  \n",
      " 2   GDP      7456 non-null   float64\n",
      "dtypes: float64(1), int32(1), string(1)\n",
      "memory usage: 156.0 KB\n"
     ]
    }
   ],
   "source": [
    "# Convert country and year to string and int types\n",
    "\n",
    "wb_gdp.country = wb_gdp.country.astype('string') \n",
    "wb_gdp.year = wb_gdp.year.astype(int)\n",
    "wb_gdp.info()"
   ]
  },
  {
   "cell_type": "code",
   "execution_count": 6,
   "metadata": {},
   "outputs": [
    {
     "name": "stdout",
     "output_type": "stream",
     "text": [
      "<class 'pandas.core.frame.DataFrame'>\n",
      "RangeIndex: 7980 entries, 0 to 7979\n",
      "Data columns (total 3 columns):\n",
      " #   Column   Non-Null Count  Dtype  \n",
      "---  ------   --------------  -----  \n",
      " 0   country  7980 non-null   object \n",
      " 1   year     7980 non-null   object \n",
      " 2   GDP_PPP  7006 non-null   float64\n",
      "dtypes: float64(1), object(2)\n",
      "memory usage: 187.2+ KB\n"
     ]
    }
   ],
   "source": [
    "# Download the data for GDP per capita PPP and rename columns \n",
    "\n",
    "wb_gdp_ppp = wb.download(indicator='NY.GDP.PCAP.PP.CD', country='all',start=1990, end=2019)\n",
    "wb_gdp_ppp = wb_gdp_ppp.rename(columns = {'NY.GDP.PCAP.PP.CD': 'GDP_PPP'}) \n",
    "wb_gdp_ppp = wb_gdp_ppp.reset_index()\n",
    "wb_gdp_ppp.info()"
   ]
  },
  {
   "cell_type": "code",
   "execution_count": 7,
   "metadata": {},
   "outputs": [
    {
     "name": "stdout",
     "output_type": "stream",
     "text": [
      "<class 'pandas.core.frame.DataFrame'>\n",
      "RangeIndex: 7980 entries, 0 to 7979\n",
      "Data columns (total 3 columns):\n",
      " #   Column   Non-Null Count  Dtype  \n",
      "---  ------   --------------  -----  \n",
      " 0   country  7980 non-null   string \n",
      " 1   year     7980 non-null   int32  \n",
      " 2   GDP_PPP  7006 non-null   float64\n",
      "dtypes: float64(1), int32(1), string(1)\n",
      "memory usage: 156.0 KB\n"
     ]
    }
   ],
   "source": [
    "# Convert country and year to string and int type \n",
    "\n",
    "wb_gdp_ppp.country = wb_gdp_ppp.country.astype('string') \n",
    "wb_gdp_ppp.year = wb_gdp_ppp.year.astype(int)\n",
    "wb_gdp_ppp.info()"
   ]
  },
  {
   "attachments": {},
   "cell_type": "markdown",
   "metadata": {},
   "source": [
    "## Explore each data set"
   ]
  },
  {
   "cell_type": "code",
   "execution_count": 8,
   "metadata": {},
   "outputs": [
    {
     "name": "stdout",
     "output_type": "stream",
     "text": [
      "count    30.000000\n",
      "mean      7.520185\n",
      "std       0.692142\n",
      "min       6.091126\n",
      "25%       6.966361\n",
      "50%       7.862923\n",
      "75%       8.001059\n",
      "max       8.476124\n",
      "Name: European Union, dtype: float64\n",
      "count    30.000000\n",
      "mean      3.630133\n",
      "std       1.547694\n",
      "min       1.668698\n",
      "25%       2.192565\n",
      "50%       3.421976\n",
      "75%       5.373736\n",
      "max       5.930300\n",
      "Name: East Asia & Pacific (excluding high income), dtype: float64\n"
     ]
    }
   ],
   "source": [
    "# Summary statistics of CO2 per country\n",
    "\n",
    "da = wb_co2.groupby(['country'])['CO2'].describe()\n",
    "\n",
    "# Print results for countries of interest\n",
    "\n",
    "print(da.loc['European Union',:])\n",
    "print(da.loc['East Asia & Pacific (excluding high income)',:])"
   ]
  },
  {
   "cell_type": "code",
   "execution_count": 9,
   "metadata": {},
   "outputs": [
    {
     "name": "stdout",
     "output_type": "stream",
     "text": [
      "count    233.000000\n",
      "mean       4.260000\n",
      "std        5.342026\n",
      "min        0.001118\n",
      "25%        0.484838\n",
      "50%        2.034013\n",
      "75%        6.750086\n",
      "max       29.566584\n",
      "Name: 1990, dtype: float64\n",
      "count    239.000000\n",
      "mean       4.086604\n",
      "std        4.474616\n",
      "min        0.035704\n",
      "25%        0.790333\n",
      "50%        2.981762\n",
      "75%        5.890683\n",
      "max       32.761775\n",
      "Name: 2019, dtype: float64\n"
     ]
    }
   ],
   "source": [
    "# Summary statistics of CO2 per year\n",
    "\n",
    "obj = wb_co2.groupby(['year'])['CO2'].describe()\n",
    "\n",
    "# Print results for years of interest\n",
    "\n",
    "print(obj.loc[1990,:])\n",
    "print(obj.loc[2019,:])"
   ]
  },
  {
   "cell_type": "code",
   "execution_count": 10,
   "metadata": {},
   "outputs": [
    {
     "data": {
      "application/vnd.jupyter.widget-view+json": {
       "model_id": "a99ef01b7cb94751b32c09897af166cc",
       "version_major": 2,
       "version_minor": 0
      },
      "text/plain": [
       "interactive(children=(Dropdown(description='country', index=13, options=('Africa Eastern and Southern', 'Afric…"
      ]
     },
     "metadata": {},
     "output_type": "display_data"
    }
   ],
   "source": [
    "# Plot trend of CO2 for each country interactively \n",
    "\n",
    "def plot_co2(df, country): \n",
    "    I = df['country'] == country\n",
    "    ax=df.loc[I,:].plot('year', 'CO2')\n",
    "    \n",
    "\n",
    "widgets.interact(plot_co2, \n",
    "    df = widgets.fixed(wb_co2),\n",
    "    country = widgets.Dropdown(description='country', \n",
    "                                    options=wb_co2.country.unique(), \n",
    "                                    value='European Union')\n",
    "); "
   ]
  },
  {
   "attachments": {},
   "cell_type": "markdown",
   "metadata": {},
   "source": [
    "For Europe, CO2 metric tons per capita have decreased from around 8.5 in 1990 to around 6.2 in 2019. On the other hand, East and Pacific Asia (without high income countries), that includes developing countries, presents an increasing trend (from around 1.5 metric tons per capita of CO2 emissions in 1990 to around 6 in 2019)."
   ]
  },
  {
   "cell_type": "code",
   "execution_count": 11,
   "metadata": {},
   "outputs": [
    {
     "name": "stdout",
     "output_type": "stream",
     "text": [
      "count       30.000000\n",
      "mean     25872.779705\n",
      "std       7925.752501\n",
      "min      15461.048939\n",
      "25%      18186.773428\n",
      "50%      26825.586709\n",
      "75%      33405.162238\n",
      "max      37049.563479\n",
      "Name: European Union, dtype: float64\n",
      "count      30.000000\n",
      "mean     2922.908611\n",
      "std      2611.323170\n",
      "min       416.769540\n",
      "25%       874.257182\n",
      "50%      1531.787266\n",
      "75%      5247.248613\n",
      "max      8169.167837\n",
      "Name: East Asia & Pacific (excluding high income), dtype: float64\n"
     ]
    }
   ],
   "source": [
    "# Summary statistics of gdp for every country through the years\n",
    "\n",
    "obj2 = wb_gdp.groupby(['country'])['GDP'].describe()\n",
    "\n",
    "# Print results for countries of interest\n",
    "\n",
    "print(obj2.loc['European Union',:])\n",
    "print(obj2.loc['East Asia & Pacific (excluding high income)',:])"
   ]
  },
  {
   "cell_type": "code",
   "execution_count": 12,
   "metadata": {},
   "outputs": [
    {
     "name": "stdout",
     "output_type": "stream",
     "text": [
      "count      226.000000\n",
      "mean      5756.298369\n",
      "std       9764.949349\n",
      "min         50.782948\n",
      "25%        621.562930\n",
      "50%       1556.905654\n",
      "75%       6370.327865\n",
      "max      81813.315769\n",
      "Name: 1990, dtype: float64\n",
      "count       255.000000\n",
      "mean      17231.399427\n",
      "std       25791.905915\n",
      "min         216.972968\n",
      "25%        2186.046582\n",
      "50%        6837.717826\n",
      "75%       19809.323139\n",
      "max      199377.481832\n",
      "Name: 2019, dtype: float64\n"
     ]
    }
   ],
   "source": [
    "# Summary statistics of GDP per year\n",
    "\n",
    "obj3 = wb_gdp.groupby(['year'])['GDP'].describe()\n",
    "\n",
    "# Print results for years of interest\n",
    "\n",
    "print(obj3.loc[1990,:])\n",
    "print(obj3.loc[2019,:])"
   ]
  },
  {
   "cell_type": "code",
   "execution_count": 13,
   "metadata": {},
   "outputs": [
    {
     "data": {
      "application/vnd.jupyter.widget-view+json": {
       "model_id": "4365ecca8e954f4897234b9c3864814f",
       "version_major": 2,
       "version_minor": 0
      },
      "text/plain": [
       "interactive(children=(Dropdown(description='country', index=13, options=('Africa Eastern and Southern', 'Afric…"
      ]
     },
     "metadata": {},
     "output_type": "display_data"
    }
   ],
   "source": [
    "# Plot trend of GDP for each country interactively \n",
    "\n",
    "def plot_gdp(df, country): \n",
    "    I = df['country'] == country\n",
    "    ax=df.loc[I,:].plot('year', 'GDP')\n",
    "    \n",
    "\n",
    "widgets.interact(plot_gdp, \n",
    "    df = widgets.fixed(wb_gdp),\n",
    "    country = widgets.Dropdown(description='country', \n",
    "                                    options=wb_gdp.country.unique(), \n",
    "                                    value='European Union')\n",
    "); "
   ]
  },
  {
   "attachments": {},
   "cell_type": "markdown",
   "metadata": {},
   "source": [
    "GDP in European Union has increased significantly from 1990 to 2008. Then, it is possible to notice, among others, the decrease due to the global financial crisis. GDP does not reach again the level pre crisis (around 37500 US$), but in 2019 it is 35000 US$. \n",
    "\n",
    "East and Pacific asian countries (excluding high income ones) present a sustained GDP growht during the period analysed from around 500 US$ to slighly above 8000 US$.\n"
   ]
  },
  {
   "cell_type": "code",
   "execution_count": 14,
   "metadata": {},
   "outputs": [
    {
     "name": "stdout",
     "output_type": "stream",
     "text": [
      "count       30.000000\n",
      "mean     27854.789055\n",
      "std       9577.582378\n",
      "min      14825.976849\n",
      "25%      19293.702139\n",
      "50%      26338.917728\n",
      "75%      34846.770783\n",
      "max      47486.789525\n",
      "Name: European Union, dtype: float64\n",
      "count       30.000000\n",
      "mean      6431.900215\n",
      "std       4257.425331\n",
      "min       1457.432330\n",
      "25%       2852.897805\n",
      "50%       4973.735424\n",
      "75%      10167.859055\n",
      "max      15016.853092\n",
      "Name: East Asia & Pacific (excluding high income), dtype: float64\n"
     ]
    }
   ],
   "source": [
    "# Summary statistics of GDP_PPP per country\n",
    "\n",
    "obj4 = wb_gdp_ppp.groupby(['country'])['GDP_PPP'].describe()\n",
    "\n",
    "# Print results for country of interest\n",
    "\n",
    "print(obj4.loc['European Union',:])\n",
    "print(obj4.loc['East Asia & Pacific (excluding high income)',:])"
   ]
  },
  {
   "cell_type": "code",
   "execution_count": 15,
   "metadata": {},
   "outputs": [
    {
     "name": "stdout",
     "output_type": "stream",
     "text": [
      "count      207.000000\n",
      "mean      7241.562460\n",
      "std       9552.293996\n",
      "min        284.250421\n",
      "25%       1722.266006\n",
      "50%       3666.649001\n",
      "75%       8283.032307\n",
      "max      83843.224678\n",
      "Name: 1990, dtype: float64\n",
      "count       241.000000\n",
      "mean      22004.820603\n",
      "std       22409.841797\n",
      "min         760.453399\n",
      "25%        5343.001606\n",
      "50%       14678.777879\n",
      "75%       32511.298290\n",
      "max      128005.781873\n",
      "Name: 2019, dtype: float64\n"
     ]
    }
   ],
   "source": [
    "# Summary statistics of GDP_PPP per year\n",
    "\n",
    "obj5 = wb_gdp_ppp.groupby(['year'])['GDP_PPP'].describe()\n",
    "\n",
    "# Print results for years of interest\n",
    "\n",
    "print(obj5.loc[1990,:])\n",
    "print(obj5.loc[2019,:])"
   ]
  },
  {
   "cell_type": "code",
   "execution_count": 16,
   "metadata": {},
   "outputs": [
    {
     "data": {
      "application/vnd.jupyter.widget-view+json": {
       "model_id": "3c05357188d9466b8963444aad3db717",
       "version_major": 2,
       "version_minor": 0
      },
      "text/plain": [
       "interactive(children=(Dropdown(description='country', index=13, options=('Africa Eastern and Southern', 'Afric…"
      ]
     },
     "metadata": {},
     "output_type": "display_data"
    }
   ],
   "source": [
    "# Plot trend of GDP_PPP for each country interactively \n",
    "\n",
    "def plot_gdp_ppp(df, country): \n",
    "    I = df['country'] == country\n",
    "    ax=df.loc[I,:].plot('year', 'GDP_PPP')\n",
    "    \n",
    "\n",
    "widgets.interact(plot_gdp_ppp, \n",
    "    df = widgets.fixed(wb_gdp_ppp),\n",
    "    country = widgets.Dropdown(description='country', \n",
    "                                    options=wb_gdp_ppp.country.unique(), \n",
    "                                    value='European Union')\n",
    "); "
   ]
  },
  {
   "attachments": {},
   "cell_type": "markdown",
   "metadata": {},
   "source": [
    "GDP_PPP in Europe has increased significantly from 1990 to 2008, when there is a small decrese. After it, the positive trend continues up to around 47500 current international $.\n",
    "\n",
    "East and Pacific asian countries (excluding high income ones) present a sustained GDP growht during the period analysed up to around 15000 current international $."
   ]
  },
  {
   "attachments": {},
   "cell_type": "markdown",
   "metadata": {},
   "source": [
    "# Merge data sets"
   ]
  },
  {
   "cell_type": "code",
   "execution_count": 17,
   "metadata": {},
   "outputs": [],
   "source": [
    "# Drop missing values in the three datasets\n",
    "\n",
    "wb_gdp.dropna(inplace=True)\n",
    "wb_co2.dropna(inplace=True)\n",
    "wb_gdp_ppp.dropna(inplace=True)\n"
   ]
  },
  {
   "cell_type": "code",
   "execution_count": 18,
   "metadata": {},
   "outputs": [
    {
     "name": "stdout",
     "output_type": "stream",
     "text": [
      "countries in gdp data, but not in co2 data: ['American Samoa', 'Aruba', 'Bermuda', 'Cayman Islands', 'Channel Islands', 'Curacao', 'Faroe Islands', 'French Polynesia', 'Greenland', 'Guam', 'Hong Kong SAR, China', 'Isle of Man', 'Kosovo', 'Macao SAR, China', 'Monaco', 'New Caledonia', 'Northern Mariana Islands', 'Puerto Rico', 'San Marino', 'Sint Maarten (Dutch part)', 'St. Martin (French part)', 'Turks and Caicos Islands', 'Virgin Islands (U.S.)', 'West Bank and Gaza']\n",
      "countries in co2 data, but not in gdp data: [\"Korea, Dem. People's Rep.\"]\n",
      "countries in gdp data, but not in gdp_ppp data: ['American Samoa', 'Andorra', 'Channel Islands', 'Cuba', 'Faroe Islands', 'French Polynesia', 'Greenland', 'Guam', 'Isle of Man', 'Liechtenstein', 'Monaco', 'New Caledonia', 'Northern Mariana Islands', 'St. Martin (French part)', 'Syrian Arab Republic', 'Virgin Islands (U.S.)']\n",
      "countries in gdp_ppp data, but not in gdp data: []\n",
      "countries in gdp_ppp data, but not in co2 data: ['Aruba', 'Bermuda', 'Cayman Islands', 'Curacao', 'Hong Kong SAR, China', 'Kosovo', 'Macao SAR, China', 'Puerto Rico', 'San Marino', 'Sint Maarten (Dutch part)', 'Turks and Caicos Islands', 'West Bank and Gaza']\n",
      "countries in co2 data, but not in gdp_ppp data: ['Andorra', 'Cuba', \"Korea, Dem. People's Rep.\", 'Liechtenstein', 'Syrian Arab Republic']\n"
     ]
    }
   ],
   "source": [
    "# See if there are observations not common to all datasets \n",
    "\n",
    "diff_gc = [y for y in wb_gdp.country.unique() if y not in wb_co2.country.unique()] \n",
    "print(f'countries in gdp data, but not in co2 data: {diff_gc}')\n",
    "\n",
    "diff_cg = [y for y in wb_co2.country.unique() if y not in wb_gdp.country.unique()] \n",
    "print(f'countries in co2 data, but not in gdp data: {diff_cg}')\n",
    "\n",
    "diff_ggppp = [y for y in wb_gdp.country.unique() if y not in wb_gdp_ppp.country.unique()] \n",
    "print(f'countries in gdp data, but not in gdp_ppp data: {diff_ggppp}')\n",
    "\n",
    "diff_pppgg = [y for y in wb_gdp_ppp.country.unique() if y not in wb_gdp.country.unique()] \n",
    "print(f'countries in gdp_ppp data, but not in gdp data: {diff_pppgg}')\n",
    "\n",
    "diff_gcppp = [y for y in wb_gdp_ppp.country.unique() if y not in wb_co2.country.unique()] \n",
    "print(f'countries in gdp_ppp data, but not in co2 data: {diff_gcppp}')\n",
    "\n",
    "diff_cgppp = [y for y in wb_co2.country.unique() if y not in wb_gdp_ppp.country.unique()] \n",
    "print(f'countries in co2 data, but not in gdp_ppp data: {diff_cgppp}')\n"
   ]
  },
  {
   "attachments": {},
   "cell_type": "markdown",
   "metadata": {},
   "source": [
    "Since there are observations not common to all datasets, the inner merge will drop them. "
   ]
  },
  {
   "cell_type": "code",
   "execution_count": 19,
   "metadata": {},
   "outputs": [
    {
     "data": {
      "text/html": [
       "<div>\n",
       "<style scoped>\n",
       "    .dataframe tbody tr th:only-of-type {\n",
       "        vertical-align: middle;\n",
       "    }\n",
       "\n",
       "    .dataframe tbody tr th {\n",
       "        vertical-align: top;\n",
       "    }\n",
       "\n",
       "    .dataframe thead th {\n",
       "        text-align: right;\n",
       "    }\n",
       "</style>\n",
       "<table border=\"1\" class=\"dataframe\">\n",
       "  <thead>\n",
       "    <tr style=\"text-align: right;\">\n",
       "      <th></th>\n",
       "      <th>country</th>\n",
       "      <th>year</th>\n",
       "      <th>GDP</th>\n",
       "      <th>GDP_PPP</th>\n",
       "      <th>CO2</th>\n",
       "    </tr>\n",
       "  </thead>\n",
       "  <tbody>\n",
       "    <tr>\n",
       "      <th>3640</th>\n",
       "      <td>Iran, Islamic Rep.</td>\n",
       "      <td>2004</td>\n",
       "      <td>2751.793042</td>\n",
       "      <td>14073.075652</td>\n",
       "      <td>6.047638</td>\n",
       "    </tr>\n",
       "    <tr>\n",
       "      <th>3764</th>\n",
       "      <td>Italy</td>\n",
       "      <td>1992</td>\n",
       "      <td>23243.474528</td>\n",
       "      <td>20150.574965</td>\n",
       "      <td>7.082582</td>\n",
       "    </tr>\n",
       "    <tr>\n",
       "      <th>2919</th>\n",
       "      <td>Equatorial Guinea</td>\n",
       "      <td>1996</td>\n",
       "      <td>399.028167</td>\n",
       "      <td>1826.646630</td>\n",
       "      <td>2.042662</td>\n",
       "    </tr>\n",
       "    <tr>\n",
       "      <th>48</th>\n",
       "      <td>Africa Western and Central</td>\n",
       "      <td>2001</td>\n",
       "      <td>529.584939</td>\n",
       "      <td>2150.719030</td>\n",
       "      <td>0.539255</td>\n",
       "    </tr>\n",
       "    <tr>\n",
       "      <th>6438</th>\n",
       "      <td>United Kingdom</td>\n",
       "      <td>2019</td>\n",
       "      <td>42747.080460</td>\n",
       "      <td>49661.384589</td>\n",
       "      <td>5.220514</td>\n",
       "    </tr>\n",
       "    <tr>\n",
       "      <th>753</th>\n",
       "      <td>Latin America &amp; the Caribbean (IDA &amp; IBRD coun...</td>\n",
       "      <td>2016</td>\n",
       "      <td>8199.168618</td>\n",
       "      <td>15231.379097</td>\n",
       "      <td>2.740718</td>\n",
       "    </tr>\n",
       "    <tr>\n",
       "      <th>4490</th>\n",
       "      <td>Mauritius</td>\n",
       "      <td>2006</td>\n",
       "      <td>5695.969327</td>\n",
       "      <td>12586.734243</td>\n",
       "      <td>2.674239</td>\n",
       "    </tr>\n",
       "    <tr>\n",
       "      <th>6381</th>\n",
       "      <td>Ukraine</td>\n",
       "      <td>2016</td>\n",
       "      <td>2187.730469</td>\n",
       "      <td>11148.196289</td>\n",
       "      <td>4.480868</td>\n",
       "    </tr>\n",
       "    <tr>\n",
       "      <th>5551</th>\n",
       "      <td>Seychelles</td>\n",
       "      <td>2010</td>\n",
       "      <td>10804.684475</td>\n",
       "      <td>19389.987828</td>\n",
       "      <td>4.901415</td>\n",
       "    </tr>\n",
       "    <tr>\n",
       "      <th>2632</th>\n",
       "      <td>Croatia</td>\n",
       "      <td>2011</td>\n",
       "      <td>14812.869472</td>\n",
       "      <td>21094.038305</td>\n",
       "      <td>4.445616</td>\n",
       "    </tr>\n",
       "    <tr>\n",
       "      <th>3973</th>\n",
       "      <td>Korea, Rep.</td>\n",
       "      <td>1993</td>\n",
       "      <td>8884.928319</td>\n",
       "      <td>11030.711948</td>\n",
       "      <td>7.412666</td>\n",
       "    </tr>\n",
       "    <tr>\n",
       "      <th>3148</th>\n",
       "      <td>Gabon</td>\n",
       "      <td>1992</td>\n",
       "      <td>5390.536807</td>\n",
       "      <td>12321.919026</td>\n",
       "      <td>4.366492</td>\n",
       "    </tr>\n",
       "    <tr>\n",
       "      <th>5274</th>\n",
       "      <td>Portugal</td>\n",
       "      <td>2013</td>\n",
       "      <td>21653.195975</td>\n",
       "      <td>27936.039664</td>\n",
       "      <td>4.452394</td>\n",
       "    </tr>\n",
       "    <tr>\n",
       "      <th>18</th>\n",
       "      <td>Africa Eastern and Southern</td>\n",
       "      <td>2001</td>\n",
       "      <td>628.225242</td>\n",
       "      <td>2212.020487</td>\n",
       "      <td>0.954243</td>\n",
       "    </tr>\n",
       "    <tr>\n",
       "      <th>6054</th>\n",
       "      <td>Tajikistan</td>\n",
       "      <td>1995</td>\n",
       "      <td>208.080556</td>\n",
       "      <td>1011.035095</td>\n",
       "      <td>0.424261</td>\n",
       "    </tr>\n",
       "  </tbody>\n",
       "</table>\n",
       "</div>"
      ],
      "text/plain": [
       "                                                country  year           GDP  \\\n",
       "3640                                 Iran, Islamic Rep.  2004   2751.793042   \n",
       "3764                                              Italy  1992  23243.474528   \n",
       "2919                                  Equatorial Guinea  1996    399.028167   \n",
       "48                           Africa Western and Central  2001    529.584939   \n",
       "6438                                     United Kingdom  2019  42747.080460   \n",
       "753   Latin America & the Caribbean (IDA & IBRD coun...  2016   8199.168618   \n",
       "4490                                          Mauritius  2006   5695.969327   \n",
       "6381                                            Ukraine  2016   2187.730469   \n",
       "5551                                         Seychelles  2010  10804.684475   \n",
       "2632                                            Croatia  2011  14812.869472   \n",
       "3973                                        Korea, Rep.  1993   8884.928319   \n",
       "3148                                              Gabon  1992   5390.536807   \n",
       "5274                                           Portugal  2013  21653.195975   \n",
       "18                          Africa Eastern and Southern  2001    628.225242   \n",
       "6054                                         Tajikistan  1995    208.080556   \n",
       "\n",
       "           GDP_PPP       CO2  \n",
       "3640  14073.075652  6.047638  \n",
       "3764  20150.574965  7.082582  \n",
       "2919   1826.646630  2.042662  \n",
       "48     2150.719030  0.539255  \n",
       "6438  49661.384589  5.220514  \n",
       "753   15231.379097  2.740718  \n",
       "4490  12586.734243  2.674239  \n",
       "6381  11148.196289  4.480868  \n",
       "5551  19389.987828  4.901415  \n",
       "2632  21094.038305  4.445616  \n",
       "3973  11030.711948  7.412666  \n",
       "3148  12321.919026  4.366492  \n",
       "5274  27936.039664  4.452394  \n",
       "18     2212.020487  0.954243  \n",
       "6054   1011.035095  0.424261  "
      ]
     },
     "execution_count": 19,
     "metadata": {},
     "output_type": "execute_result"
    }
   ],
   "source": [
    "# Inner merge of the three datasets\n",
    "\n",
    "inner = pd.merge(wb_gdp, wb_gdp_ppp, how='inner',on=['country','year'])\n",
    "inner2 = pd.merge(inner, wb_co2, how='inner',on=['country','year'])\n",
    "inner2.sample(15)"
   ]
  },
  {
   "cell_type": "code",
   "execution_count": 20,
   "metadata": {},
   "outputs": [
    {
     "data": {
      "text/html": [
       "<div>\n",
       "<style scoped>\n",
       "    .dataframe tbody tr th:only-of-type {\n",
       "        vertical-align: middle;\n",
       "    }\n",
       "\n",
       "    .dataframe tbody tr th {\n",
       "        vertical-align: top;\n",
       "    }\n",
       "\n",
       "    .dataframe thead th {\n",
       "        text-align: right;\n",
       "    }\n",
       "</style>\n",
       "<table border=\"1\" class=\"dataframe\">\n",
       "  <thead>\n",
       "    <tr style=\"text-align: right;\">\n",
       "      <th></th>\n",
       "      <th>country</th>\n",
       "      <th>year</th>\n",
       "      <th>GDP</th>\n",
       "      <th>GDP_PPP</th>\n",
       "      <th>CO2</th>\n",
       "    </tr>\n",
       "  </thead>\n",
       "  <tbody>\n",
       "    <tr>\n",
       "      <th>0</th>\n",
       "      <td>Africa Eastern and Southern</td>\n",
       "      <td>2019</td>\n",
       "      <td>1512.270553</td>\n",
       "      <td>3777.972368</td>\n",
       "      <td>0.903764</td>\n",
       "    </tr>\n",
       "    <tr>\n",
       "      <th>1</th>\n",
       "      <td>Africa Eastern and Southern</td>\n",
       "      <td>2018</td>\n",
       "      <td>1564.734340</td>\n",
       "      <td>3724.868177</td>\n",
       "      <td>0.908094</td>\n",
       "    </tr>\n",
       "    <tr>\n",
       "      <th>2</th>\n",
       "      <td>Africa Eastern and Southern</td>\n",
       "      <td>2017</td>\n",
       "      <td>1628.586788</td>\n",
       "      <td>3635.564622</td>\n",
       "      <td>0.928508</td>\n",
       "    </tr>\n",
       "    <tr>\n",
       "      <th>3</th>\n",
       "      <td>Africa Eastern and Southern</td>\n",
       "      <td>2016</td>\n",
       "      <td>1443.692371</td>\n",
       "      <td>3591.099809</td>\n",
       "      <td>0.938565</td>\n",
       "    </tr>\n",
       "    <tr>\n",
       "      <th>4</th>\n",
       "      <td>Africa Eastern and Southern</td>\n",
       "      <td>2015</td>\n",
       "      <td>1538.552268</td>\n",
       "      <td>3498.125396</td>\n",
       "      <td>0.956704</td>\n",
       "    </tr>\n",
       "    <tr>\n",
       "      <th>...</th>\n",
       "      <td>...</td>\n",
       "      <td>...</td>\n",
       "      <td>...</td>\n",
       "      <td>...</td>\n",
       "      <td>...</td>\n",
       "    </tr>\n",
       "    <tr>\n",
       "      <th>6719</th>\n",
       "      <td>Zimbabwe</td>\n",
       "      <td>1994</td>\n",
       "      <td>634.582617</td>\n",
       "      <td>1958.125364</td>\n",
       "      <td>1.469804</td>\n",
       "    </tr>\n",
       "    <tr>\n",
       "      <th>6720</th>\n",
       "      <td>Zimbabwe</td>\n",
       "      <td>1993</td>\n",
       "      <td>608.046610</td>\n",
       "      <td>1765.451300</td>\n",
       "      <td>1.582226</td>\n",
       "    </tr>\n",
       "    <tr>\n",
       "      <th>6721</th>\n",
       "      <td>Zimbabwe</td>\n",
       "      <td>1992</td>\n",
       "      <td>634.447359</td>\n",
       "      <td>1731.232789</td>\n",
       "      <td>1.735657</td>\n",
       "    </tr>\n",
       "    <tr>\n",
       "      <th>6722</th>\n",
       "      <td>Zimbabwe</td>\n",
       "      <td>1991</td>\n",
       "      <td>832.687969</td>\n",
       "      <td>1907.652490</td>\n",
       "      <td>1.763377</td>\n",
       "    </tr>\n",
       "    <tr>\n",
       "      <th>6723</th>\n",
       "      <td>Zimbabwe</td>\n",
       "      <td>1990</td>\n",
       "      <td>868.490175</td>\n",
       "      <td>1794.153648</td>\n",
       "      <td>1.635374</td>\n",
       "    </tr>\n",
       "  </tbody>\n",
       "</table>\n",
       "<p>6724 rows × 5 columns</p>\n",
       "</div>"
      ],
      "text/plain": [
       "                          country  year          GDP      GDP_PPP       CO2\n",
       "0     Africa Eastern and Southern  2019  1512.270553  3777.972368  0.903764\n",
       "1     Africa Eastern and Southern  2018  1564.734340  3724.868177  0.908094\n",
       "2     Africa Eastern and Southern  2017  1628.586788  3635.564622  0.928508\n",
       "3     Africa Eastern and Southern  2016  1443.692371  3591.099809  0.938565\n",
       "4     Africa Eastern and Southern  2015  1538.552268  3498.125396  0.956704\n",
       "...                           ...   ...          ...          ...       ...\n",
       "6719                     Zimbabwe  1994   634.582617  1958.125364  1.469804\n",
       "6720                     Zimbabwe  1993   608.046610  1765.451300  1.582226\n",
       "6721                     Zimbabwe  1992   634.447359  1731.232789  1.735657\n",
       "6722                     Zimbabwe  1991   832.687969  1907.652490  1.763377\n",
       "6723                     Zimbabwe  1990   868.490175  1794.153648  1.635374\n",
       "\n",
       "[6724 rows x 5 columns]"
      ]
     },
     "execution_count": 20,
     "metadata": {},
     "output_type": "execute_result"
    }
   ],
   "source": [
    "# Visualise the dataset\n",
    "\n",
    "inner2"
   ]
  },
  {
   "attachments": {},
   "cell_type": "markdown",
   "metadata": {},
   "source": [
    "# Analysis"
   ]
  },
  {
   "cell_type": "code",
   "execution_count": 21,
   "metadata": {},
   "outputs": [
    {
     "data": {
      "text/html": [
       "<div>\n",
       "<style scoped>\n",
       "    .dataframe tbody tr th:only-of-type {\n",
       "        vertical-align: middle;\n",
       "    }\n",
       "\n",
       "    .dataframe tbody tr th {\n",
       "        vertical-align: top;\n",
       "    }\n",
       "\n",
       "    .dataframe thead th {\n",
       "        text-align: right;\n",
       "    }\n",
       "</style>\n",
       "<table border=\"1\" class=\"dataframe\">\n",
       "  <thead>\n",
       "    <tr style=\"text-align: right;\">\n",
       "      <th></th>\n",
       "      <th>GDP</th>\n",
       "      <th>GDP_PPP</th>\n",
       "      <th>CO2</th>\n",
       "    </tr>\n",
       "  </thead>\n",
       "  <tbody>\n",
       "    <tr>\n",
       "      <th>count</th>\n",
       "      <td>6724.000000</td>\n",
       "      <td>6724.000000</td>\n",
       "      <td>6724.000000</td>\n",
       "    </tr>\n",
       "    <tr>\n",
       "      <th>mean</th>\n",
       "      <td>9123.818171</td>\n",
       "      <td>13172.366547</td>\n",
       "      <td>4.165736</td>\n",
       "    </tr>\n",
       "    <tr>\n",
       "      <th>std</th>\n",
       "      <td>14601.290547</td>\n",
       "      <td>16342.210557</td>\n",
       "      <td>5.090729</td>\n",
       "    </tr>\n",
       "    <tr>\n",
       "      <th>min</th>\n",
       "      <td>22.850371</td>\n",
       "      <td>285.047875</td>\n",
       "      <td>0.000000</td>\n",
       "    </tr>\n",
       "    <tr>\n",
       "      <th>25%</th>\n",
       "      <td>951.475339</td>\n",
       "      <td>2743.395985</td>\n",
       "      <td>0.666680</td>\n",
       "    </tr>\n",
       "    <tr>\n",
       "      <th>50%</th>\n",
       "      <td>2974.712388</td>\n",
       "      <td>7079.401295</td>\n",
       "      <td>2.376525</td>\n",
       "    </tr>\n",
       "    <tr>\n",
       "      <th>75%</th>\n",
       "      <td>9754.160129</td>\n",
       "      <td>16742.948786</td>\n",
       "      <td>6.142739</td>\n",
       "    </tr>\n",
       "    <tr>\n",
       "      <th>max</th>\n",
       "      <td>123678.702143</td>\n",
       "      <td>163219.491990</td>\n",
       "      <td>47.651306</td>\n",
       "    </tr>\n",
       "  </tbody>\n",
       "</table>\n",
       "</div>"
      ],
      "text/plain": [
       "                 GDP        GDP_PPP          CO2\n",
       "count    6724.000000    6724.000000  6724.000000\n",
       "mean     9123.818171   13172.366547     4.165736\n",
       "std     14601.290547   16342.210557     5.090729\n",
       "min        22.850371     285.047875     0.000000\n",
       "25%       951.475339    2743.395985     0.666680\n",
       "50%      2974.712388    7079.401295     2.376525\n",
       "75%      9754.160129   16742.948786     6.142739\n",
       "max    123678.702143  163219.491990    47.651306"
      ]
     },
     "execution_count": 21,
     "metadata": {},
     "output_type": "execute_result"
    }
   ],
   "source": [
    "# Summary statistics of all observations (all years for all countries)\n",
    "\n",
    "inner2.iloc[:, 2:5].describe()\n"
   ]
  },
  {
   "cell_type": "code",
   "execution_count": 22,
   "metadata": {},
   "outputs": [
    {
     "data": {
      "text/html": [
       "<div>\n",
       "<style scoped>\n",
       "    .dataframe tbody tr th:only-of-type {\n",
       "        vertical-align: middle;\n",
       "    }\n",
       "\n",
       "    .dataframe tbody tr th {\n",
       "        vertical-align: top;\n",
       "    }\n",
       "\n",
       "    .dataframe thead th {\n",
       "        text-align: right;\n",
       "    }\n",
       "</style>\n",
       "<table border=\"1\" class=\"dataframe\">\n",
       "  <thead>\n",
       "    <tr style=\"text-align: right;\">\n",
       "      <th></th>\n",
       "      <th>year</th>\n",
       "      <th>GDP</th>\n",
       "      <th>GDP_PPP</th>\n",
       "      <th>CO2</th>\n",
       "      <th>mean_per_country_CO2</th>\n",
       "      <th>mean_per_country_GDP</th>\n",
       "    </tr>\n",
       "    <tr>\n",
       "      <th>country</th>\n",
       "      <th></th>\n",
       "      <th></th>\n",
       "      <th></th>\n",
       "      <th></th>\n",
       "      <th></th>\n",
       "      <th></th>\n",
       "    </tr>\n",
       "  </thead>\n",
       "  <tbody>\n",
       "    <tr>\n",
       "      <th>Sweden</th>\n",
       "      <td>2002</td>\n",
       "      <td>29899.195250</td>\n",
       "      <td>30926.505599</td>\n",
       "      <td>6.052690</td>\n",
       "      <td>5.418048</td>\n",
       "      <td>42374.819097</td>\n",
       "    </tr>\n",
       "    <tr>\n",
       "      <th>Central African Republic</th>\n",
       "      <td>2002</td>\n",
       "      <td>253.410680</td>\n",
       "      <td>701.340145</td>\n",
       "      <td>0.063603</td>\n",
       "      <td>0.048742</td>\n",
       "      <td>370.847012</td>\n",
       "    </tr>\n",
       "    <tr>\n",
       "      <th>Zimbabwe</th>\n",
       "      <td>2012</td>\n",
       "      <td>1290.193956</td>\n",
       "      <td>2349.028204</td>\n",
       "      <td>0.905368</td>\n",
       "      <td>1.053904</td>\n",
       "      <td>859.619366</td>\n",
       "    </tr>\n",
       "    <tr>\n",
       "      <th>Trinidad and Tobago</th>\n",
       "      <td>1990</td>\n",
       "      <td>4001.522284</td>\n",
       "      <td>6799.289717</td>\n",
       "      <td>10.382798</td>\n",
       "      <td>11.334775</td>\n",
       "      <td>10974.330390</td>\n",
       "    </tr>\n",
       "    <tr>\n",
       "      <th>Euro area</th>\n",
       "      <td>1990</td>\n",
       "      <td>18903.282964</td>\n",
       "      <td>17014.896052</td>\n",
       "      <td>8.430714</td>\n",
       "      <td>7.691740</td>\n",
       "      <td>30046.547018</td>\n",
       "    </tr>\n",
       "    <tr>\n",
       "      <th>Low income</th>\n",
       "      <td>2008</td>\n",
       "      <td>611.252321</td>\n",
       "      <td>1495.245943</td>\n",
       "      <td>0.422959</td>\n",
       "      <td>0.392583</td>\n",
       "      <td>489.234924</td>\n",
       "    </tr>\n",
       "    <tr>\n",
       "      <th>Dominica</th>\n",
       "      <td>2004</td>\n",
       "      <td>5354.799195</td>\n",
       "      <td>7650.995342</td>\n",
       "      <td>2.333246</td>\n",
       "      <td>2.208624</td>\n",
       "      <td>5697.902628</td>\n",
       "    </tr>\n",
       "    <tr>\n",
       "      <th>Montenegro</th>\n",
       "      <td>2002</td>\n",
       "      <td>2106.635068</td>\n",
       "      <td>7100.324632</td>\n",
       "      <td>2.902458</td>\n",
       "      <td>3.515574</td>\n",
       "      <td>5713.984204</td>\n",
       "    </tr>\n",
       "    <tr>\n",
       "      <th>Benin</th>\n",
       "      <td>2016</td>\n",
       "      <td>1049.820303</td>\n",
       "      <td>2901.264671</td>\n",
       "      <td>0.598575</td>\n",
       "      <td>0.329613</td>\n",
       "      <td>759.709318</td>\n",
       "    </tr>\n",
       "    <tr>\n",
       "      <th>Saudi Arabia</th>\n",
       "      <td>2006</td>\n",
       "      <td>14848.602058</td>\n",
       "      <td>46910.352942</td>\n",
       "      <td>13.215212</td>\n",
       "      <td>13.307173</td>\n",
       "      <td>13911.917828</td>\n",
       "    </tr>\n",
       "    <tr>\n",
       "      <th>Latin America &amp; Caribbean (excluding high income)</th>\n",
       "      <td>1992</td>\n",
       "      <td>2717.963420</td>\n",
       "      <td>6553.146343</td>\n",
       "      <td>1.878136</td>\n",
       "      <td>2.263144</td>\n",
       "      <td>5839.704255</td>\n",
       "    </tr>\n",
       "    <tr>\n",
       "      <th>Paraguay</th>\n",
       "      <td>2014</td>\n",
       "      <td>6629.416993</td>\n",
       "      <td>12411.302090</td>\n",
       "      <td>0.924357</td>\n",
       "      <td>0.826288</td>\n",
       "      <td>3356.662519</td>\n",
       "    </tr>\n",
       "    <tr>\n",
       "      <th>Moldova</th>\n",
       "      <td>2004</td>\n",
       "      <td>897.178495</td>\n",
       "      <td>4427.990458</td>\n",
       "      <td>2.686443</td>\n",
       "      <td>2.873337</td>\n",
       "      <td>1863.104612</td>\n",
       "    </tr>\n",
       "    <tr>\n",
       "      <th>Peru</th>\n",
       "      <td>2002</td>\n",
       "      <td>2003.971081</td>\n",
       "      <td>5373.096040</td>\n",
       "      <td>1.014469</td>\n",
       "      <td>1.276863</td>\n",
       "      <td>3669.005113</td>\n",
       "    </tr>\n",
       "    <tr>\n",
       "      <th>Kyrgyz Republic</th>\n",
       "      <td>1999</td>\n",
       "      <td>258.049229</td>\n",
       "      <td>1747.092619</td>\n",
       "      <td>0.989588</td>\n",
       "      <td>1.631333</td>\n",
       "      <td>715.709035</td>\n",
       "    </tr>\n",
       "  </tbody>\n",
       "</table>\n",
       "</div>"
      ],
      "text/plain": [
       "                                                   year           GDP  \\\n",
       "country                                                                 \n",
       "Sweden                                             2002  29899.195250   \n",
       "Central African Republic                           2002    253.410680   \n",
       "Zimbabwe                                           2012   1290.193956   \n",
       "Trinidad and Tobago                                1990   4001.522284   \n",
       "Euro area                                          1990  18903.282964   \n",
       "Low income                                         2008    611.252321   \n",
       "Dominica                                           2004   5354.799195   \n",
       "Montenegro                                         2002   2106.635068   \n",
       "Benin                                              2016   1049.820303   \n",
       "Saudi Arabia                                       2006  14848.602058   \n",
       "Latin America & Caribbean (excluding high income)  1992   2717.963420   \n",
       "Paraguay                                           2014   6629.416993   \n",
       "Moldova                                            2004    897.178495   \n",
       "Peru                                               2002   2003.971081   \n",
       "Kyrgyz Republic                                    1999    258.049229   \n",
       "\n",
       "                                                        GDP_PPP        CO2  \\\n",
       "country                                                                      \n",
       "Sweden                                             30926.505599   6.052690   \n",
       "Central African Republic                             701.340145   0.063603   \n",
       "Zimbabwe                                            2349.028204   0.905368   \n",
       "Trinidad and Tobago                                 6799.289717  10.382798   \n",
       "Euro area                                          17014.896052   8.430714   \n",
       "Low income                                          1495.245943   0.422959   \n",
       "Dominica                                            7650.995342   2.333246   \n",
       "Montenegro                                          7100.324632   2.902458   \n",
       "Benin                                               2901.264671   0.598575   \n",
       "Saudi Arabia                                       46910.352942  13.215212   \n",
       "Latin America & Caribbean (excluding high income)   6553.146343   1.878136   \n",
       "Paraguay                                           12411.302090   0.924357   \n",
       "Moldova                                             4427.990458   2.686443   \n",
       "Peru                                                5373.096040   1.014469   \n",
       "Kyrgyz Republic                                     1747.092619   0.989588   \n",
       "\n",
       "                                                   mean_per_country_CO2  \\\n",
       "country                                                                   \n",
       "Sweden                                                         5.418048   \n",
       "Central African Republic                                       0.048742   \n",
       "Zimbabwe                                                       1.053904   \n",
       "Trinidad and Tobago                                           11.334775   \n",
       "Euro area                                                      7.691740   \n",
       "Low income                                                     0.392583   \n",
       "Dominica                                                       2.208624   \n",
       "Montenegro                                                     3.515574   \n",
       "Benin                                                          0.329613   \n",
       "Saudi Arabia                                                  13.307173   \n",
       "Latin America & Caribbean (excluding high income)              2.263144   \n",
       "Paraguay                                                       0.826288   \n",
       "Moldova                                                        2.873337   \n",
       "Peru                                                           1.276863   \n",
       "Kyrgyz Republic                                                1.631333   \n",
       "\n",
       "                                                   mean_per_country_GDP  \n",
       "country                                                                  \n",
       "Sweden                                                     42374.819097  \n",
       "Central African Republic                                     370.847012  \n",
       "Zimbabwe                                                     859.619366  \n",
       "Trinidad and Tobago                                        10974.330390  \n",
       "Euro area                                                  30046.547018  \n",
       "Low income                                                   489.234924  \n",
       "Dominica                                                    5697.902628  \n",
       "Montenegro                                                  5713.984204  \n",
       "Benin                                                        759.709318  \n",
       "Saudi Arabia                                               13911.917828  \n",
       "Latin America & Caribbean (excluding high income)           5839.704255  \n",
       "Paraguay                                                    3356.662519  \n",
       "Moldova                                                     1863.104612  \n",
       "Peru                                                        3669.005113  \n",
       "Kyrgyz Republic                                              715.709035  "
      ]
     },
     "execution_count": 22,
     "metadata": {},
     "output_type": "execute_result"
    }
   ],
   "source": [
    "# Calculate mean of CO2 per country and combine it to the dataset \n",
    "\n",
    "groupbycountry = inner2.groupby(['country'])['CO2']\n",
    "groupbycountry_mean =  groupbycountry.mean()\n",
    "groupbycountry_mean.name = 'mean_per_country_CO2'\n",
    "inner3= inner2.set_index('country').join(groupbycountry_mean, how='left')\n",
    "\n",
    "# Calculate mean of GDP per country and combine it to the dataset \n",
    "\n",
    "groupbycountryGDP = inner2.groupby(['country'])['GDP']\n",
    "groupbycountryGDP_mean =  groupbycountryGDP.mean()\n",
    "groupbycountryGDP_mean.name = 'mean_per_country_GDP'\n",
    "inner4= inner3.join(groupbycountryGDP_mean, how='left')\n",
    "inner4.sample(15)\n"
   ]
  },
  {
   "cell_type": "code",
   "execution_count": 23,
   "metadata": {},
   "outputs": [
    {
     "data": {
      "image/png": "[encoded data removed]",
      "text/plain": [
       "<Figure size 640x480 with 1 Axes>"
      ]
     },
     "metadata": {},
     "output_type": "display_data"
    }
   ],
   "source": [
    "# Plot average emissions per country with average gdp per country \n",
    "\n",
    "I = inner4[\"year\"] == 1995\n",
    "data_mean = inner4[I]\n",
    "ax = data_mean.plot(x = 'mean_per_country_GDP', y = 'mean_per_country_CO2', kind = 'scatter'); \n"
   ]
  },
  {
   "attachments": {},
   "cell_type": "markdown",
   "metadata": {},
   "source": [
    "Considering the average CO2 and GDP per country through the time period of analysis, we can see that at higher levels of GDP correspond higher levels of CO2 up to around 30000 US$, then we notice an inversion of this relation (excluding some outliers). "
   ]
  },
  {
   "cell_type": "code",
   "execution_count": 24,
   "metadata": {},
   "outputs": [
    {
     "data": {
      "image/png": "[encoded data removed]",
      "text/plain": [
       "<Figure size 640x480 with 1 Axes>"
      ]
     },
     "metadata": {},
     "output_type": "display_data"
    }
   ],
   "source": [
    "# Calculate mean of GDP_PPP per country and combine it to the dataset inner3\n",
    "\n",
    "groupbycountryGDP_PPP = inner2.groupby(['country'])['GDP_PPP']\n",
    "groupbycountryGDP_PPP_mean =  groupbycountryGDP_PPP.mean()\n",
    "groupbycountryGDP_PPP_mean.name = 'mean_per_country_GDP_PPP'\n",
    "inner5= inner3.join(groupbycountryGDP_PPP_mean, how='left')\n",
    "\n",
    "# Plot average emissions per country with average gdp_ppp per country \n",
    "\n",
    "F = inner5[\"year\"] == 1995\n",
    "data_mean_ppp = inner5[F]\n",
    "ax2 = data_mean_ppp.plot(x = 'mean_per_country_GDP_PPP', y = 'mean_per_country_CO2', kind = 'scatter'); "
   ]
  },
  {
   "attachments": {},
   "cell_type": "markdown",
   "metadata": {},
   "source": [
    "With GDP adjusted for Purchasing Power Parity data, the relationship between the two means seems more linear than the case with GDP data, even though after 30000 international $ we notice a inverse relationship for some observations. "
   ]
  },
  {
   "cell_type": "code",
   "execution_count": 25,
   "metadata": {},
   "outputs": [
    {
     "data": {
      "application/vnd.jupyter.widget-view+json": {
       "model_id": "9da4bad0cd874866a8776860f5debaa8",
       "version_major": 2,
       "version_minor": 0
      },
      "text/plain": [
       "interactive(children=(Dropdown(description='country', index=13, options=('Africa Eastern and Southern', 'Afric…"
      ]
     },
     "metadata": {},
     "output_type": "display_data"
    }
   ],
   "source": [
    "# Define function to plot interactively GDP and CO2 per country\n",
    "\n",
    "def plot_co2gdp(df, country): \n",
    "    I = df['country'] == country\n",
    "    ax=df.loc[I,:].plot.scatter('GDP', 'CO2', c='year')\n",
    "    ax.set_xlim(22,80000) # scale graph to make comparison between countries\n",
    "    ax.set_ylim(0,10)\n",
    "\n",
    "# Plot GDP and CO2 per country, coloured by year\n",
    "\n",
    "widgets.interact(plot_co2gdp, \n",
    "    df = widgets.fixed(inner2),\n",
    "    country = widgets.Dropdown(description='country', \n",
    "                                    options=inner2.country.unique(), \n",
    "                                    value='European Union')\n",
    "); \n"
   ]
  },
  {
   "attachments": {},
   "cell_type": "markdown",
   "metadata": {},
   "source": [
    "For East and Pacific asian countries (excluding high income) we see higher level of emissions per capita for higher level of GDP per capita, considering that GDP arrives at around 10000 US$ in 2019. So there is the possibility that they are in the initial part of the EKC. \n",
    "\n",
    "For European Union countries, we see an inverse U-shape curve, but the range of its GDP is in fact higher than the previous countries. "
   ]
  },
  {
   "cell_type": "code",
   "execution_count": 26,
   "metadata": {},
   "outputs": [
    {
     "data": {
      "application/vnd.jupyter.widget-view+json": {
       "model_id": "a8ca7cfe94974e1385acb92c94813784",
       "version_major": 2,
       "version_minor": 0
      },
      "text/plain": [
       "interactive(children=(Dropdown(description='country', index=13, options=('Africa Eastern and Southern', 'Afric…"
      ]
     },
     "metadata": {},
     "output_type": "display_data"
    }
   ],
   "source": [
    "# Define function to plot interactively\n",
    "\n",
    "def plot_co2gdp(df, country): \n",
    "    I = df['country'] == country\n",
    "    ax=df.loc[I,:].plot.scatter('GDP_PPP', 'CO2', c='year')\n",
    "    ax.set_xlim(22,80000)\n",
    "    ax.set_ylim(0,10)\n",
    "\n",
    "# Plot GDP and CO2 per country, coloured by year\n",
    "\n",
    "widgets.interact(plot_co2gdp, \n",
    "    df = widgets.fixed(inner2),\n",
    "    country = widgets.Dropdown(description='country', \n",
    "                                    options=inner2.country.unique(), \n",
    "                                    value='European Union')\n",
    "); "
   ]
  },
  {
   "attachments": {},
   "cell_type": "markdown",
   "metadata": {},
   "source": [
    "The trends are similar to the previous case with GDP data."
   ]
  },
  {
   "attachments": {},
   "cell_type": "markdown",
   "metadata": {},
   "source": [
    "Now we want to analyse specifically our variables for the year 2019. "
   ]
  },
  {
   "cell_type": "code",
   "execution_count": 27,
   "metadata": {},
   "outputs": [
    {
     "data": {
      "text/html": [
       "<div>\n",
       "<style scoped>\n",
       "    .dataframe tbody tr th:only-of-type {\n",
       "        vertical-align: middle;\n",
       "    }\n",
       "\n",
       "    .dataframe tbody tr th {\n",
       "        vertical-align: top;\n",
       "    }\n",
       "\n",
       "    .dataframe thead th {\n",
       "        text-align: right;\n",
       "    }\n",
       "</style>\n",
       "<table border=\"1\" class=\"dataframe\">\n",
       "  <thead>\n",
       "    <tr style=\"text-align: right;\">\n",
       "      <th></th>\n",
       "      <th>year</th>\n",
       "      <th>GDP</th>\n",
       "      <th>GDP_PPP</th>\n",
       "      <th>CO2</th>\n",
       "    </tr>\n",
       "  </thead>\n",
       "  <tbody>\n",
       "    <tr>\n",
       "      <th>count</th>\n",
       "      <td>230.0</td>\n",
       "      <td>230.000000</td>\n",
       "      <td>230.000000</td>\n",
       "      <td>230.000000</td>\n",
       "    </tr>\n",
       "    <tr>\n",
       "      <th>mean</th>\n",
       "      <td>2019.0</td>\n",
       "      <td>13475.513153</td>\n",
       "      <td>20613.477126</td>\n",
       "      <td>4.155925</td>\n",
       "    </tr>\n",
       "    <tr>\n",
       "      <th>std</th>\n",
       "      <td>0.0</td>\n",
       "      <td>18388.734444</td>\n",
       "      <td>20660.285567</td>\n",
       "      <td>4.529966</td>\n",
       "    </tr>\n",
       "    <tr>\n",
       "      <th>min</th>\n",
       "      <td>2019.0</td>\n",
       "      <td>216.972968</td>\n",
       "      <td>760.453399</td>\n",
       "      <td>0.035704</td>\n",
       "    </tr>\n",
       "    <tr>\n",
       "      <th>25%</th>\n",
       "      <td>2019.0</td>\n",
       "      <td>1975.513423</td>\n",
       "      <td>5090.827464</td>\n",
       "      <td>0.800953</td>\n",
       "    </tr>\n",
       "    <tr>\n",
       "      <th>50%</th>\n",
       "      <td>2019.0</td>\n",
       "      <td>6140.476798</td>\n",
       "      <td>14311.008452</td>\n",
       "      <td>3.087791</td>\n",
       "    </tr>\n",
       "    <tr>\n",
       "      <th>75%</th>\n",
       "      <td>2019.0</td>\n",
       "      <td>15697.674286</td>\n",
       "      <td>29761.402274</td>\n",
       "      <td>5.956737</td>\n",
       "    </tr>\n",
       "    <tr>\n",
       "      <th>max</th>\n",
       "      <td>2019.0</td>\n",
       "      <td>112621.821337</td>\n",
       "      <td>120174.754704</td>\n",
       "      <td>32.761775</td>\n",
       "    </tr>\n",
       "  </tbody>\n",
       "</table>\n",
       "</div>"
      ],
      "text/plain": [
       "         year            GDP        GDP_PPP         CO2\n",
       "count   230.0     230.000000     230.000000  230.000000\n",
       "mean   2019.0   13475.513153   20613.477126    4.155925\n",
       "std       0.0   18388.734444   20660.285567    4.529966\n",
       "min    2019.0     216.972968     760.453399    0.035704\n",
       "25%    2019.0    1975.513423    5090.827464    0.800953\n",
       "50%    2019.0    6140.476798   14311.008452    3.087791\n",
       "75%    2019.0   15697.674286   29761.402274    5.956737\n",
       "max    2019.0  112621.821337  120174.754704   32.761775"
      ]
     },
     "execution_count": 27,
     "metadata": {},
     "output_type": "execute_result"
    }
   ],
   "source": [
    "# Select observations for 2019\n",
    "ttnineteen = inner2.loc[inner2['year'] == 2019, :]\n",
    "\n",
    "# Summary statistics for 2019 \n",
    "ttnineteen.describe()"
   ]
  },
  {
   "cell_type": "code",
   "execution_count": 28,
   "metadata": {},
   "outputs": [
    {
     "data": {
      "text/plain": [
       "country           Qatar\n",
       "year               2019\n",
       "GDP        62637.275108\n",
       "GDP_PPP    94674.312143\n",
       "CO2           32.761775\n",
       "Name: 5298, dtype: object"
      ]
     },
     "execution_count": 28,
     "metadata": {},
     "output_type": "execute_result"
    }
   ],
   "source": [
    "# Get the country with the highest co2 emissions per capita in 2019\n",
    "\n",
    "max_co2 = ttnineteen.loc[ttnineteen['CO2'].idxmax()]\n",
    "max_co2.head()"
   ]
  },
  {
   "cell_type": "code",
   "execution_count": 29,
   "metadata": {},
   "outputs": [
    {
     "data": {
      "text/plain": [
       "country       Luxembourg\n",
       "year                2019\n",
       "GDP        112621.821337\n",
       "GDP_PPP    120174.754704\n",
       "CO2            15.306427\n",
       "Name: 4216, dtype: object"
      ]
     },
     "execution_count": 29,
     "metadata": {},
     "output_type": "execute_result"
    }
   ],
   "source": [
    "# Get the country with the highest gdp per capita in 2019\n",
    "\n",
    "max_gdp = ttnineteen.loc[ttnineteen['GDP'].idxmax()]\n",
    "max_gdp.head()\n"
   ]
  },
  {
   "attachments": {},
   "cell_type": "markdown",
   "metadata": {},
   "source": [
    "So, in 2019, Qatar is the country with highest CO2 emissions per capita and Luxembourg is the country with highest GDP per capita. "
   ]
  },
  {
   "cell_type": "markdown",
   "metadata": {},
   "source": [
    "# Conclusion"
   ]
  },
  {
   "attachments": {},
   "cell_type": "markdown",
   "metadata": {},
   "source": [
    "We performed some explorations of the dataset that give an overview of the data. We took as examples the European Union, with developed countries, and the developing countries in East and Pacific Asia. Then we plotted data and summary statistics for both GDP per capita and CO2 per capita (and we repeated the same analysis with GDP adjusted for PPP): our general and raw analysis seems to conferm the inverse U-shape curve hypothesized by the EKC."
   ]
  }
 ],
 "metadata": {
  "kernelspec": {
   "display_name": "base",
   "language": "python",
   "name": "python3"
  },
  "language_info": {
   "codemirror_mode": {
    "name": "ipython",
    "version": 3
   },
   "file_extension": ".py",
   "mimetype": "text/x-python",
   "name": "python",
   "nbconvert_exporter": "python",
   "pygments_lexer": "ipython3",
   "version": "3.9.16"
  },
  "toc-autonumbering": true,
  "vscode": {
   "interpreter": {
    "hash": "da85033cedb98b31b1433b6f2cc4166856fa3553c7ba9393de504ae5f081c3aa"
   }
  }
 },
 "nbformat": 4,
 "nbformat_minor": 4
}
