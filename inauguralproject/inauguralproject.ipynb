{
 "cells": [
  {
   "cell_type": "markdown",
   "metadata": {},
   "source": [
    "# Inaugural Project"
   ]
  },
  {
   "cell_type": "code",
   "execution_count": 1,
   "metadata": {},
   "outputs": [],
   "source": [
    "# Import relevant libraries\n",
    "import numpy as np\n",
    " \n",
    "%load_ext autoreload\n",
    "%autoreload 2\n",
    "\n",
    "%matplotlib inline\n",
    "import matplotlib.pyplot as plt \n",
    "\n",
    "import inauguralproject\n",
    "\n",
    "#Import class for the model\n",
    "from HouseholdSpecializationModel import HouseholdSpecializationModelClass\n",
    "model = HouseholdSpecializationModelClass()\n",
    "\n",
    "# Set options for graphs\n",
    "plt.rcParams.update({\"axes.grid\":True,\"grid.color\":\"black\",\"grid.alpha\":\"0.25\",\"grid.linestyle\":\"-\"})\n",
    "plt.rcParams.update({'font.size': 10})"
   ]
  },
  {
   "cell_type": "markdown",
   "metadata": {},
   "source": [
    "# Question 1"
   ]
  },
  {
   "attachments": {},
   "cell_type": "markdown",
   "metadata": {},
   "source": [
    "To obtain the combination of the 9 cases, we do a for loop through the given values of alpha and sigma and optimize the objective function for each case. We also modify the H function in the class such that for diffent values of sigma it takes the respective functional forms. Then we obtain the ratios taking the results and doing the divisions. We create a DataFrame to visualize better the results and to be able to make comparisons. "
   ]
  },
  {
   "cell_type": "code",
   "execution_count": 2,
   "metadata": {},
   "outputs": [
    {
     "name": "stderr",
     "output_type": "stream",
     "text": [
      "c:\\Users\\Lenovo\\Desktop\\GIT\\projects-2023-virginia-rebecca\\inauguralproject\\HouseholdSpecializationModel.py:66: RuntimeWarning: divide by zero encountered in reciprocal\n",
      "  H = ((1-par.alpha)*HM**((par.sigma -1 )/par.sigma) + par.alpha*HF**((par.sigma -1 )/par.sigma))**(par.sigma/(par.sigma-1))\n"
     ]
    },
    {
     "name": "stdout",
     "output_type": "stream",
     "text": [
      "alpha = 0.25 sigma = 0.5 -> ratio HF/HM = 0.5455\n",
      "alpha = 0.25 sigma = 1.0 -> ratio HF/HM = 0.3077\n",
      "alpha = 0.25 sigma = 1.5 -> ratio HF/HM = 0.2143\n",
      "alpha = 0.50 sigma = 0.5 -> ratio HF/HM = 1.0000\n",
      "alpha = 0.50 sigma = 1.0 -> ratio HF/HM = 1.0000\n",
      "alpha = 0.50 sigma = 1.5 -> ratio HF/HM = 1.0000\n",
      "alpha = 0.75 sigma = 0.5 -> ratio HF/HM = 1.8333\n",
      "alpha = 0.75 sigma = 1.0 -> ratio HF/HM = 3.2500\n",
      "alpha = 0.75 sigma = 1.5 -> ratio HF/HM = 4.6667\n",
      "\n",
      "           0.5       1.0       1.5\n",
      "0.25  0.545455  0.307692  0.214286\n",
      "0.50       1.0       1.0       1.0\n",
      "0.75  1.833333      3.25  4.666667\n"
     ]
    }
   ],
   "source": [
    "# Import pandas to create the DataFrame\n",
    "import pandas as pd\n",
    "\n",
    "# Create lists for the values of the parameters\n",
    "alphas = [0.25, 0.5, 0.75]\n",
    "sigmas = [0.5, 1, 1.5]\n",
    "\n",
    "# Create an empty DataFrame\n",
    "results_df = pd.DataFrame(index=alphas, columns=sigmas)\n",
    "\n",
    "# Loop through every value of alpha and sigma given\n",
    "for alpha in alphas:\n",
    "    for sigma in sigmas:\n",
    "\n",
    "# Set parameters of the model to the specific value of the loop\n",
    "     model.par.alpha = alpha\n",
    "     model.par.sigma = sigma\n",
    "\n",
    "# Call the method to solve the model discretely\n",
    "     results_discrete = model.solve_discrete()\n",
    "    \n",
    "# Calculate the HF/HM ratio using the results from the optimization\n",
    "     ratioH_discrete = results_discrete.HF/results_discrete.HM\n",
    "\n",
    "# Print results\n",
    "     print(f'alpha = {alpha:.2f} sigma = {sigma:.1f} -> ratio HF/HM = {ratioH_discrete:.4f}') \n",
    "\n",
    "# Add the HF/HM ratio to the DataFrame in the corrisponding position\n",
    "     results_df.loc[alpha, sigma] = ratioH_discrete\n",
    "\n",
    "# Print the DataFrame\n",
    "print('')\n",
    "print(results_df)"
   ]
  },
  {
   "attachments": {},
   "cell_type": "markdown",
   "metadata": {},
   "source": [
    "As shown by the output printed, keeping sigma constant, as alpha increases, the HF/HM ratio increases monotonically.\n",
    "Since alpha is the parameter for women productivity in home labour and sigma is elasticity of substitution between HF and HM, as the productivity of women in home labour increases, it is optimal for the household that women allocate more hours in home labour. "
   ]
  },
  {
   "cell_type": "markdown",
   "metadata": {},
   "source": [
    "# Question 2"
   ]
  },
  {
   "attachments": {},
   "cell_type": "markdown",
   "metadata": {},
   "source": [
    "To obtain the combination of the 5 cases, we do a for loop through the given values of wF, since wM is always assumed equal to 1. We then optimize the objective function with the discrete method for each case. Then we obtain the ratios taking the results and doing the divisions. We decided to do a scatter plot to better visualize the relation between HF/HM and wf/wM ratios."
   ]
  },
  {
   "cell_type": "code",
   "execution_count": 3,
   "metadata": {},
   "outputs": [
    {
     "name": "stdout",
     "output_type": "stream",
     "text": [
      "log wF/wM ratio = -0.2231, correspondent log ratio HF/HM = 2.0794\n",
      "log wF/wM ratio = -0.1054, correspondent log ratio HF/HM = 1.6094\n",
      "log wF/wM ratio = 0.0000, correspondent log ratio HF/HM = 1.5404\n",
      "log wF/wM ratio = 0.0953, correspondent log ratio HF/HM = 1.5404\n",
      "log wF/wM ratio = 0.1823, correspondent log ratio HF/HM = 1.4663\n"
     ]
    },
    {
     "data": {
      "image/png": "[encoded data removed]",
      "text/plain": [
       "<Figure size 640x480 with 1 Axes>"
      ]
     },
     "metadata": {},
     "output_type": "display_data"
    }
   ],
   "source": [
    "# Create the figure \n",
    "\n",
    "fig, ax = plt.subplots()\n",
    "\n",
    "# Loop through the values of given wF \n",
    "for wF in [0.8, 0.9, 1, 1.1, 1.2]:\n",
    "\n",
    "  # Set the parameter wF in the class to the corrispondent value of the loop\n",
    "  model.par.wF = wF\n",
    "\n",
    "  # Solve the model discretely \n",
    "  results_discrete2= model.solve_discrete()\n",
    "\n",
    "  # Calculate the log of HF/HM ratio \n",
    "  ratioH_discrete2=np.log(results_discrete2.HF/results_discrete2.HM)\n",
    "  \n",
    "\n",
    "  # Calculate the log of wF/wM ratio\n",
    "  ratioW=np.log(wF/model.par.wM)\n",
    "  \n",
    "\n",
    "  # Print results\n",
    "  print(f'log wF/wM ratio = {ratioW:.4f}, correspondent log ratio HF/HM = {ratioH_discrete2:.4f}') \n",
    "  \n",
    "  # Create the scatter plot with the logs of the two ratios\n",
    "  ax.scatter(ratioW, ratioH_discrete2)\n",
    "  ax.set_title('Plot log HF/HM against log WF/WM')\n",
    "  ax.set_xlabel('log WF/WM')\n",
    "  ax.set_ylabel('log HF/HM');"
   ]
  },
  {
   "attachments": {},
   "cell_type": "markdown",
   "metadata": {},
   "source": [
    "From the graph we can notice that as the ratio between women’s salary and men’s salary (wF/wM) increases, the ratio between the number of hours of women’s domestic work and men’s one (HF/HM) decreases since it is optimal for women to allocate more hours to non-domestic work (L). An exception could be seen in either the green or the red point, this could be the result of approximations."
   ]
  },
  {
   "cell_type": "markdown",
   "metadata": {},
   "source": [
    "# Question 3"
   ]
  },
  {
   "attachments": {},
   "cell_type": "markdown",
   "metadata": {},
   "source": [
    "As for Question 2, to obtain the combination of the 5 cases, we do a for loop through the given values of wF, since wM is always assumed equal to 1. We then optimize the objective function, but now with the continuous method for each case. Then we obtain the ratios taking the results and doing the divisions. We decided to do a scatter plot to better visualize the relation between HF/HM and wf/wM ratios."
   ]
  },
  {
   "cell_type": "code",
   "execution_count": 4,
   "metadata": {},
   "outputs": [
    {
     "name": "stderr",
     "output_type": "stream",
     "text": [
      "c:\\Users\\Lenovo\\anaconda3\\lib\\site-packages\\scipy\\optimize\\_optimize.py:353: RuntimeWarning: Values in x were outside bounds during a minimize step, clipping to bounds\n",
      "  warnings.warn(\"Values in x were outside bounds during a \"\n"
     ]
    },
    {
     "name": "stdout",
     "output_type": "stream",
     "text": [
      "log wF/wM ratio = -0.2231, correspondent log ratio HF/HM = 1.8675\n",
      "log wF/wM ratio = -0.1054, correspondent log ratio HF/HM = 1.7959\n",
      "log wF/wM ratio = 0.0000, correspondent log ratio HF/HM = 1.6495\n",
      "log wF/wM ratio = 0.0953, correspondent log ratio HF/HM = 1.5087\n",
      "log wF/wM ratio = 0.1823, correspondent log ratio HF/HM = 1.3719\n"
     ]
    },
    {
     "data": {
      "image/png": "[encoded data removed]",
      "text/plain": [
       "<Figure size 640x480 with 1 Axes>"
      ]
     },
     "metadata": {},
     "output_type": "display_data"
    }
   ],
   "source": [
    "# Import the module to use the minimize function\n",
    "from scipy import optimize\n",
    "\n",
    "# Create the figure \n",
    "fig, ax = plt.subplots()\n",
    "\n",
    "# Loop through the values of given wF\n",
    "for wF in [0.8, 0.9, 1, 1.1, 1.2]:\n",
    "\n",
    "  # Set the parameter wF in the class to the corrispondent value of the loop\n",
    "  model.par.wF = wF\n",
    "\n",
    "  # Solve the model continuoisly calling the method solve from the class\n",
    "  results_cont= model.solve()\n",
    "  \n",
    "  # Calculate the log of HF/HM ratio\n",
    "  ratioH_cont=np.log(results_cont.HF/results_cont.HM)\n",
    "  \n",
    "  \n",
    "  # Calculate the log of wF/wM ratio\n",
    "  ratioW_cont=np.log(wF/model.par.wM)\n",
    "  \n",
    "  # Print results\n",
    "  print(f'log wF/wM ratio = {ratioW_cont:.4f}, correspondent log ratio HF/HM = {ratioH_cont:.4f}') \n",
    "\n",
    "  # Create the scatter plot\n",
    "  ax.scatter(ratioW_cont, ratioH_cont)\n",
    "  ax.set_title('Plot log ratio H against log ratio W')\n",
    "  ax.set_xlabel('log WF/WM')\n",
    "  ax.set_ylabel('log HF/HM');"
   ]
  },
  {
   "attachments": {},
   "cell_type": "markdown",
   "metadata": {},
   "source": [
    "The results are similar to Question 2, even if not equal, but in general the decreasing pattern is confirmed. In addition, there is no more the exception of the previous point, that is another element that makes us think of approximation as the reason of it. "
   ]
  },
  {
   "attachments": {},
   "cell_type": "markdown",
   "metadata": {},
   "source": [
    "# Question 4"
   ]
  },
  {
   "attachments": {},
   "cell_type": "markdown",
   "metadata": {},
   "source": [
    "First of all we wrote a function that calculates directly the optimal HF and HM for the different values of wF, without the need to loop outside the function. Then we constructed the objective function in a way that it updates alpha and sigma, and then it calculates the estimated betas from the regression and consequently the function that we have to minimize. In the estimate function, the solver finds the alpha and sigma that minimize the objective function. "
   ]
  },
  {
   "cell_type": "code",
   "execution_count": 5,
   "metadata": {},
   "outputs": [
    {
     "name": "stdout",
     "output_type": "stream",
     "text": [
      "optimal alpha = 0.4999\n",
      "optimal sigma = 0.5221\n",
      "objective function = 0.1970\n"
     ]
    }
   ],
   "source": [
    "# Estimate optimal alpha and sigma\n",
    "optimal_parameters = model.estimate()\n",
    "\n",
    "# Evaluate and print the objective function at the optimal parameters\n",
    "minimized_function = model.objective(optimal_parameters.x)\n",
    "print(f'objective function = {minimized_function:.4f}')"
   ]
  },
  {
   "attachments": {},
   "cell_type": "markdown",
   "metadata": {},
   "source": [
    "The value of the objective funtion at the optimal parameters is low, but not so close to zero, therefore the model could be improved. We noticed that with different initial guesses the optimal parameters change, because the function meets local minima. We tried different initial guesses and we chose one that brings a lower value of the function. "
   ]
  },
  {
   "attachments": {},
   "cell_type": "markdown",
   "metadata": {},
   "source": [
    "# Question 5"
   ]
  },
  {
   "attachments": {},
   "cell_type": "markdown",
   "metadata": {},
   "source": [
    "The model can be extented adding to the utility function the utility or disutility that the agents receive from domestic and non domestic work because they like or dislike it, or because it brings satisfaction or dissatisfaction despite the effort captured by the part of disutility in the objective function. Therefore we add parameters that multiply HM HF LM and LF that capture this utility. As an example, we choose these parameters to be -0.2 0.2 0.4 0.4. "
   ]
  },
  {
   "cell_type": "code",
   "execution_count": 22,
   "metadata": {},
   "outputs": [
    {
     "name": "stderr",
     "output_type": "stream",
     "text": [
      "c:\\Users\\Lenovo\\anaconda3\\lib\\site-packages\\scipy\\optimize\\_optimize.py:353: RuntimeWarning: Values in x were outside bounds during a minimize step, clipping to bounds\n",
      "  warnings.warn(\"Values in x were outside bounds during a \"\n",
      "c:\\Users\\Lenovo\\Desktop\\GIT\\projects-2023-virginia-rebecca\\inauguralproject\\HouseholdSpecializationModel.py:267: RuntimeWarning: overflow encountered in double_scalars\n",
      "  H = ((1-par.alpha)*HM**((par.sigma -1 )/par.sigma) + par.alpha*HF**((par.sigma -1 )/par.sigma))**(par.sigma/(par.sigma-1))\n"
     ]
    },
    {
     "name": "stdout",
     "output_type": "stream",
     "text": [
      "optimal sigma = 0.0016\n",
      "objective function = 0.1970\n"
     ]
    }
   ],
   "source": [
    "# Estimate optimal sigma\n",
    "optimal_sigma = model.estimate_addition()\n",
    "\n",
    "# Evaluate and print the objective function at the optimal parameter\n",
    "minimized_function_sigma = model.objective(optimal_parameters.x)\n",
    "print(f'objective function = {minimized_function:.4f}')\n",
    "\n"
   ]
  },
  {
   "attachments": {},
   "cell_type": "markdown",
   "metadata": {},
   "source": [
    "Given alpha = 0.5, now the optimal sigma is lower than point 4. The minimized objective function, on the other hand, has the same value of before. "
   ]
  }
 ],
 "metadata": {
  "kernelspec": {
   "display_name": "base",
   "language": "python",
   "name": "python3"
  },
  "language_info": {
   "codemirror_mode": {
    "name": "ipython",
    "version": 3
   },
   "file_extension": ".py",
   "mimetype": "text/x-python",
   "name": "python",
   "nbconvert_exporter": "python",
   "pygments_lexer": "ipython3",
   "version": "3.9.16"
  },
  "toc-autonumbering": true,
  "vscode": {
   "interpreter": {
    "hash": "da85033cedb98b31b1433b6f2cc4166856fa3553c7ba9393de504ae5f081c3aa"
   }
  }
 },
 "nbformat": 4,
 "nbformat_minor": 4
}
