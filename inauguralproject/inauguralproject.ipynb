{
 "cells": [
  {
   "cell_type": "markdown",
   "metadata": {},
   "source": [
    "# Inaugural Project"
   ]
  },
  {
   "cell_type": "code",
   "execution_count": 1,
   "metadata": {},
   "outputs": [],
   "source": [
    "# Import relevant libraries\n",
    "import numpy as np\n",
    " \n",
    "%load_ext autoreload\n",
    "%autoreload 2\n",
    "\n",
    "%matplotlib inline\n",
    "import matplotlib.pyplot as plt \n",
    "\n",
    "import inauguralproject\n",
    "\n",
    "#Import class for the model\n",
    "from HouseholdSpecializationModel import HouseholdSpecializationModelClass\n",
    "model = HouseholdSpecializationModelClass()\n",
    "\n",
    "# Set options for graphs\n",
    "plt.rcParams.update({\"axes.grid\":True,\"grid.color\":\"black\",\"grid.alpha\":\"0.25\",\"grid.linestyle\":\"-\"})\n",
    "plt.rcParams.update({'font.size': 10})"
   ]
  },
  {
   "cell_type": "markdown",
   "metadata": {},
   "source": [
    "# Question 1"
   ]
  },
  {
   "attachments": {},
   "cell_type": "markdown",
   "metadata": {},
   "source": [
    "To obtain the combination of the 9 cases, we do a for loop through the given values of alpha and sigma and optimize the objective function for each case. We also modify the H function in the class such that for diffent values of sigma it takes the respective functional forms. Then we obtain the ratios taking the results and doing the divisions. "
   ]
  },
  {
   "cell_type": "code",
   "execution_count": 2,
   "metadata": {},
   "outputs": [
    {
     "name": "stderr",
     "output_type": "stream",
     "text": [
      "c:\\Users\\Lenovo\\Desktop\\GIT\\projects-2023-virginia-rebecca\\inauguralproject\\HouseholdSpecializationModel.py:66: RuntimeWarning: divide by zero encountered in reciprocal\n",
      "  H = ((1-par.alpha)*HM**((par.sigma -1 )/par.sigma) + par.alpha*HF**((par.sigma -1 )/par.sigma))**(par.sigma/(par.sigma-1))\n"
     ]
    },
    {
     "name": "stdout",
     "output_type": "stream",
     "text": [
      "namespace(LM=3.0, HM=5.5, LF=6.0, HF=3.0)\n",
      "0.5454545454545454\n",
      "namespace(LM=2.0, HM=6.5, LF=7.0, HF=2.0)\n",
      "0.3076923076923077\n",
      "namespace(LM=1.5, HM=7.0, LF=7.0, HF=1.5)\n",
      "0.21428571428571427\n",
      "namespace(LM=4.5, HM=4.5, LF=4.5, HF=4.5)\n",
      "1.0\n",
      "namespace(LM=4.5, HM=4.5, LF=4.5, HF=4.5)\n",
      "1.0\n",
      "namespace(LM=4.5, HM=4.5, LF=4.5, HF=4.5)\n",
      "1.0\n",
      "namespace(LM=5.5, HM=3.0, LF=3.5, HF=5.5)\n",
      "1.8333333333333333\n",
      "namespace(LM=6.5, HM=2.0, LF=2.5, HF=6.5)\n",
      "3.25\n",
      "namespace(LM=7.0, HM=1.5, LF=1.5, HF=7.0)\n",
      "4.666666666666667\n"
     ]
    }
   ],
   "source": [
    "# Loop through every value of alpha and sigma given\n",
    "for alpha in [0.25, 0.5, 0.75]:\n",
    "    for sigma in [0.5, 1, 1.5]:\n",
    "     \n",
    "     # Set parameters of the model to the specific value of the loop\n",
    "     model.par.alpha = alpha\n",
    "     model.par.sigma = sigma\n",
    "\n",
    "     # Call the method to solve the model discretely\n",
    "     results_discrete = model.solve_discrete()\n",
    "     print(results_discrete)\n",
    "\n",
    "     # Calculate the HF/HM ratio using the results from the optimization\n",
    "     ratioH_discrete = results_discrete.HF/results_discrete.HM\n",
    "     print(ratioH_discrete)"
   ]
  },
  {
   "attachments": {},
   "cell_type": "markdown",
   "metadata": {},
   "source": [
    "As shown by the table, it can be noticed that, keeping sigma constant, as alpha increases, the HF/HM ratio increases monotonically.\n",
    "Since alpha is the parameter for women productivity in home labour and sigma is elasticity of substitution between HF and HM, as the productivity of women in home labour increases, it is optimal for the household that women allocate more hours in home labour. "
   ]
  },
  {
   "cell_type": "markdown",
   "metadata": {},
   "source": [
    "# Question 2"
   ]
  },
  {
   "attachments": {},
   "cell_type": "markdown",
   "metadata": {},
   "source": [
    "To obtain the combination of the 5 cases, we do a for loop through the given values of wF, since wM is always assumed equal to 1. We then optimize the objective function with the discrete method for each case. Then we obtain the ratios taking the results and doing the divisions. We decided to do a scatter plot to better visualize the relation between HF/HM and wf/wM ratios."
   ]
  },
  {
   "cell_type": "code",
   "execution_count": 3,
   "metadata": {},
   "outputs": [],
   "source": [
    "# Create the figure \n",
    "\n",
    "fig, ax = plt.subplots()\n",
    "\n",
    "# Loop through the values of given wF \n",
    "for wF in [0.8, 0.9, 1, 1.1, 1.2]:\n",
    "\n",
    "  # Set the parameter wF in the class to the corrispondent value of the loop\n",
    "  model.par.wF = wF\n",
    "\n",
    "  # Solve the model discretely \n",
    "  results_discrete2= model.solve_discrete()\n",
    "\n",
    "  # Calculate the log of HF/HM ratio \n",
    "  ratioH_discrete2=np.log(results_discrete2.HF/results_discrete2.HM)\n",
    "  print(ratioH_discrete2)\n",
    "\n",
    "  # Calculate the log of wF/wM ratio\n",
    "  ratioW=np.log(wF/model.par.wM)\n",
    "  print(ratioW)\n",
    "  \n",
    "  # Create the scatter plot with the logs of the two ratios\n",
    "  ax.scatter(ratioW, ratioH_discrete2)\n",
    "  ax.set_title('Plot log HF/HM against log WF/WM')\n",
    "  ax.set_xlabel('log WF/WM')\n",
    "  ax.set_ylabel('log HF/HM');"
   ]
  },
  {
   "attachments": {},
   "cell_type": "markdown",
   "metadata": {},
   "source": [
    "From the graph we can notice that as the ratio between women’s salary and men’s salary (wF/wM) increases, the ratio between the number of hours of women’s domestic work and men’s one (HF/HM) decreases since it is optimal for women to allocate more hours to non-domestic work (L). An exception could be seen in either the green or the red point, this could be the result of approximations."
   ]
  },
  {
   "cell_type": "markdown",
   "metadata": {},
   "source": [
    "# Question 3"
   ]
  },
  {
   "attachments": {},
   "cell_type": "markdown",
   "metadata": {},
   "source": [
    "As for Question 2, to obtain the combination of the 5 cases, we do a for loop through the given values of wF, since wM is always assumed equal to 1. We then optimize the objective function, but now with the continuous method for each case. Then we obtain the ratios taking the results and doing the divisions. We decided to do a scatter plot to better visualize the relation between HF/HM and wf/wM ratios."
   ]
  },
  {
   "cell_type": "code",
   "execution_count": 4,
   "metadata": {},
   "outputs": [],
   "source": [
    "# Import the module to use the minimize function\n",
    "from scipy import optimize\n",
    "\n",
    "# Create the figure \n",
    "fig, ax = plt.subplots()\n",
    "\n",
    "# Loop through the values of given wF\n",
    "for wF in [0.8, 0.9, 1, 1.1, 1.2]:\n",
    "\n",
    "  # Set the parameter wF in the class to the corrispondent value of the loop\n",
    "  model.par.wF = wF\n",
    "\n",
    "  # Solve the model continuoisly calling the method solve from the class\n",
    "  results_cont= model.solve()\n",
    "  \n",
    "  # Calculate the log of HF/HM ratio\n",
    "  ratioH_cont=np.log(results_cont.HF/results_cont.HM)\n",
    "  print(ratioH_cont)\n",
    "  \n",
    "  # Calculate the log of wF/wM ratio\n",
    "  ratioW_cont=np.log(wF/model.par.wM)\n",
    "  print(ratioW_cont)\n",
    "\n",
    "  # Create the scatter plot\n",
    "  ax.scatter(ratioW_cont, ratioH_cont)\n",
    "  ax.set_title('Plot log ratio H against log ratio W')\n",
    "  ax.set_xlabel('log WF/WM')\n",
    "  ax.set_ylabel('log HF/HM');"
   ]
  },
  {
   "attachments": {},
   "cell_type": "markdown",
   "metadata": {},
   "source": [
    "The results are similar to Question 2, even if not equal, but in general the decreasing pattern is confirmed. In addition, there is no more the exception of the previous point, that is another element that makes us think of approximation as the reason of it. "
   ]
  },
  {
   "cell_type": "markdown",
   "metadata": {},
   "source": [
    "ADD CONCISE CONLUSION."
   ]
  }
 ],
 "metadata": {
  "kernelspec": {
   "display_name": "base",
   "language": "python",
   "name": "python3"
  },
  "language_info": {
   "codemirror_mode": {
    "name": "ipython",
    "version": 3
   },
   "file_extension": ".py",
   "mimetype": "text/x-python",
   "name": "python",
   "nbconvert_exporter": "python",
   "pygments_lexer": "ipython3",
   "version": "3.9.16"
  },
  "toc-autonumbering": true,
  "vscode": {
   "interpreter": {
    "hash": "da85033cedb98b31b1433b6f2cc4166856fa3553c7ba9393de504ae5f081c3aa"
   }
  }
 },
 "nbformat": 4,
 "nbformat_minor": 4
}
